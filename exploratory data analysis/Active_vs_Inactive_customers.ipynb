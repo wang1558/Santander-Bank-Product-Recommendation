{
  "nbformat": 4,
  "nbformat_minor": 0,
  "metadata": {
    "colab": {
      "name": "5291 Project.ipynb",
      "provenance": [],
      "machine_shape": "hm"
    },
    "kernelspec": {
      "name": "python3",
      "display_name": "Python 3"
    }
  },
  "cells": [
    {
      "cell_type": "markdown",
      "metadata": {
        "id": "J9kFEFT2Mpea",
        "colab_type": "text"
      },
      "source": [
        "##5291 Project"
      ]
    },
    {
      "cell_type": "markdown",
      "metadata": {
        "id": "og8c_CZSyOuk",
        "colab_type": "text"
      },
      "source": [
        "### Import data"
      ]
    },
    {
      "cell_type": "code",
      "metadata": {
        "id": "lPURvex9MmvQ",
        "colab_type": "code",
        "outputId": "feef9334-125d-4b7a-a19a-16d6324902a0",
        "colab": {
          "base_uri": "https://localhost:8080/",
          "height": 129
        }
      },
      "source": [
        "#authorization from google drive\n",
        "from google.colab import drive\n",
        "drive.mount('/content/drive')"
      ],
      "execution_count": 0,
      "outputs": [
        {
          "output_type": "stream",
          "text": [
            "Go to this URL in a browser: https://accounts.google.com/o/oauth2/auth?client_id=947318989803-6bn6qk8qdgf4n4g3pfee6491hc0brc4i.apps.googleusercontent.com&redirect_uri=urn%3Aietf%3Awg%3Aoauth%3A2.0%3Aoob&scope=email%20https%3A%2F%2Fwww.googleapis.com%2Fauth%2Fdocs.test%20https%3A%2F%2Fwww.googleapis.com%2Fauth%2Fdrive%20https%3A%2F%2Fwww.googleapis.com%2Fauth%2Fdrive.photos.readonly%20https%3A%2F%2Fwww.googleapis.com%2Fauth%2Fpeopleapi.readonly&response_type=code\n",
            "\n",
            "Enter your authorization code:\n",
            "··········\n",
            "Mounted at /content/drive\n"
          ],
          "name": "stdout"
        }
      ]
    },
    {
      "cell_type": "code",
      "metadata": {
        "id": "OtIjHBtPMnF2",
        "colab_type": "code",
        "outputId": "5a7c19ca-caea-4536-adbb-233858755a78",
        "colab": {
          "base_uri": "https://localhost:8080/",
          "height": 35
        }
      },
      "source": [
        "!ls \"/content/drive/My Drive/ADA Project\""
      ],
      "execution_count": 0,
      "outputs": [
        {
          "output_type": "stream",
          "text": [
            "test_ver2.csv  train_clean.csv\ttrain_ver2.csv\n"
          ],
          "name": "stdout"
        }
      ]
    },
    {
      "cell_type": "code",
      "metadata": {
        "id": "ZYWGFrCxMnPc",
        "colab_type": "code",
        "colab": {}
      },
      "source": [
        "#load libraries\n",
        "import pandas as pd\n",
        "import matplotlib.pyplot as plt\n",
        "import numpy as np"
      ],
      "execution_count": 0,
      "outputs": []
    },
    {
      "cell_type": "code",
      "metadata": {
        "id": "DIh5Io92Ga4h",
        "colab_type": "code",
        "outputId": "1f84a9d0-484b-405f-e343-3dee801eb3c0",
        "colab": {
          "base_uri": "https://localhost:8080/",
          "height": 74
        }
      },
      "source": [
        "#train = pd.read_csv(\"/content/drive/My Drive/ADA Project/train_ver2.csv\")\n",
        "#test = pd.read_csv(\"/content/drive/My Drive/ADA Project/test_ver2.csv\")\n",
        "train = pd.read_csv(\"/content/drive/My Drive/ADA Project/train_clean.csv\")"
      ],
      "execution_count": 0,
      "outputs": [
        {
          "output_type": "stream",
          "text": [
            "/usr/local/lib/python3.6/dist-packages/IPython/core/interactiveshell.py:2718: DtypeWarning: Columns (6,9,11) have mixed types. Specify dtype option on import or set low_memory=False.\n",
            "  interactivity=interactivity, compiler=compiler, result=result)\n"
          ],
          "name": "stderr"
        }
      ]
    },
    {
      "cell_type": "code",
      "metadata": {
        "id": "5bIk3TNlGwgV",
        "colab_type": "code",
        "outputId": "c157f77a-b762-46f8-c1a4-584b287741f1",
        "colab": {
          "base_uri": "https://localhost:8080/",
          "height": 574
        }
      },
      "source": [
        "train.head(10)"
      ],
      "execution_count": 0,
      "outputs": [
        {
          "output_type": "execute_result",
          "data": {
            "text/html": [
              "<div>\n",
              "<style scoped>\n",
              "    .dataframe tbody tr th:only-of-type {\n",
              "        vertical-align: middle;\n",
              "    }\n",
              "\n",
              "    .dataframe tbody tr th {\n",
              "        vertical-align: top;\n",
              "    }\n",
              "\n",
              "    .dataframe thead th {\n",
              "        text-align: right;\n",
              "    }\n",
              "</style>\n",
              "<table border=\"1\" class=\"dataframe\">\n",
              "  <thead>\n",
              "    <tr style=\"text-align: right;\">\n",
              "      <th></th>\n",
              "      <th>Unnamed: 0</th>\n",
              "      <th>fecha_dato</th>\n",
              "      <th>ncodpers</th>\n",
              "      <th>ind_empleado</th>\n",
              "      <th>pais_residencia</th>\n",
              "      <th>sexo</th>\n",
              "      <th>age</th>\n",
              "      <th>fecha_alta</th>\n",
              "      <th>ind_nuevo</th>\n",
              "      <th>antiguedad</th>\n",
              "      <th>indrel</th>\n",
              "      <th>indrel_1mes</th>\n",
              "      <th>tiprel_1mes</th>\n",
              "      <th>indresi</th>\n",
              "      <th>indext</th>\n",
              "      <th>canal_entrada</th>\n",
              "      <th>indfall</th>\n",
              "      <th>tipodom</th>\n",
              "      <th>cod_prov</th>\n",
              "      <th>nomprov</th>\n",
              "      <th>ind_actividad_cliente</th>\n",
              "      <th>renta</th>\n",
              "      <th>segmento</th>\n",
              "      <th>ind_ahor_fin_ult1</th>\n",
              "      <th>ind_aval_fin_ult1</th>\n",
              "      <th>ind_cco_fin_ult1</th>\n",
              "      <th>ind_cder_fin_ult1</th>\n",
              "      <th>ind_cno_fin_ult1</th>\n",
              "      <th>ind_ctju_fin_ult1</th>\n",
              "      <th>ind_ctma_fin_ult1</th>\n",
              "      <th>ind_ctop_fin_ult1</th>\n",
              "      <th>ind_ctpp_fin_ult1</th>\n",
              "      <th>ind_deco_fin_ult1</th>\n",
              "      <th>ind_deme_fin_ult1</th>\n",
              "      <th>ind_dela_fin_ult1</th>\n",
              "      <th>ind_ecue_fin_ult1</th>\n",
              "      <th>ind_fond_fin_ult1</th>\n",
              "      <th>ind_hip_fin_ult1</th>\n",
              "      <th>ind_plan_fin_ult1</th>\n",
              "      <th>ind_pres_fin_ult1</th>\n",
              "      <th>ind_reca_fin_ult1</th>\n",
              "      <th>ind_tjcr_fin_ult1</th>\n",
              "      <th>ind_valo_fin_ult1</th>\n",
              "      <th>ind_viv_fin_ult1</th>\n",
              "      <th>ind_nomina_ult1</th>\n",
              "      <th>ind_nom_pens_ult1</th>\n",
              "      <th>ind_recibo_ult1</th>\n",
              "    </tr>\n",
              "  </thead>\n",
              "  <tbody>\n",
              "    <tr>\n",
              "      <th>0</th>\n",
              "      <td>0</td>\n",
              "      <td>2015-01-28</td>\n",
              "      <td>1375586</td>\n",
              "      <td>N</td>\n",
              "      <td>ES</td>\n",
              "      <td>H</td>\n",
              "      <td>35</td>\n",
              "      <td>2015-01-12</td>\n",
              "      <td>0.0</td>\n",
              "      <td>6</td>\n",
              "      <td>1.0</td>\n",
              "      <td>1</td>\n",
              "      <td>A</td>\n",
              "      <td>S</td>\n",
              "      <td>N</td>\n",
              "      <td>KHL</td>\n",
              "      <td>N</td>\n",
              "      <td>1.0</td>\n",
              "      <td>29.0</td>\n",
              "      <td>MALAGA</td>\n",
              "      <td>1.0</td>\n",
              "      <td>87218.10</td>\n",
              "      <td>02 - PARTICULARES</td>\n",
              "      <td>0</td>\n",
              "      <td>0</td>\n",
              "      <td>1</td>\n",
              "      <td>0</td>\n",
              "      <td>0</td>\n",
              "      <td>0</td>\n",
              "      <td>0</td>\n",
              "      <td>0</td>\n",
              "      <td>0</td>\n",
              "      <td>0</td>\n",
              "      <td>0</td>\n",
              "      <td>0</td>\n",
              "      <td>0</td>\n",
              "      <td>0</td>\n",
              "      <td>0</td>\n",
              "      <td>0</td>\n",
              "      <td>0</td>\n",
              "      <td>0</td>\n",
              "      <td>0</td>\n",
              "      <td>0</td>\n",
              "      <td>0</td>\n",
              "      <td>0.0</td>\n",
              "      <td>0.0</td>\n",
              "      <td>0</td>\n",
              "    </tr>\n",
              "    <tr>\n",
              "      <th>1</th>\n",
              "      <td>1</td>\n",
              "      <td>2015-01-28</td>\n",
              "      <td>1050611</td>\n",
              "      <td>N</td>\n",
              "      <td>ES</td>\n",
              "      <td>V</td>\n",
              "      <td>23</td>\n",
              "      <td>2012-08-10</td>\n",
              "      <td>0.0</td>\n",
              "      <td>35</td>\n",
              "      <td>1.0</td>\n",
              "      <td>1</td>\n",
              "      <td>I</td>\n",
              "      <td>S</td>\n",
              "      <td>S</td>\n",
              "      <td>KHE</td>\n",
              "      <td>N</td>\n",
              "      <td>1.0</td>\n",
              "      <td>13.0</td>\n",
              "      <td>CIUDAD REAL</td>\n",
              "      <td>0.0</td>\n",
              "      <td>35548.74</td>\n",
              "      <td>03 - UNIVERSITARIO</td>\n",
              "      <td>0</td>\n",
              "      <td>0</td>\n",
              "      <td>1</td>\n",
              "      <td>0</td>\n",
              "      <td>0</td>\n",
              "      <td>0</td>\n",
              "      <td>0</td>\n",
              "      <td>0</td>\n",
              "      <td>0</td>\n",
              "      <td>0</td>\n",
              "      <td>0</td>\n",
              "      <td>0</td>\n",
              "      <td>0</td>\n",
              "      <td>0</td>\n",
              "      <td>0</td>\n",
              "      <td>0</td>\n",
              "      <td>0</td>\n",
              "      <td>0</td>\n",
              "      <td>0</td>\n",
              "      <td>0</td>\n",
              "      <td>0</td>\n",
              "      <td>0.0</td>\n",
              "      <td>0.0</td>\n",
              "      <td>0</td>\n",
              "    </tr>\n",
              "    <tr>\n",
              "      <th>2</th>\n",
              "      <td>2</td>\n",
              "      <td>2015-01-28</td>\n",
              "      <td>1050612</td>\n",
              "      <td>N</td>\n",
              "      <td>ES</td>\n",
              "      <td>V</td>\n",
              "      <td>23</td>\n",
              "      <td>2012-08-10</td>\n",
              "      <td>0.0</td>\n",
              "      <td>35</td>\n",
              "      <td>1.0</td>\n",
              "      <td>1</td>\n",
              "      <td>I</td>\n",
              "      <td>S</td>\n",
              "      <td>N</td>\n",
              "      <td>KHE</td>\n",
              "      <td>N</td>\n",
              "      <td>1.0</td>\n",
              "      <td>13.0</td>\n",
              "      <td>CIUDAD REAL</td>\n",
              "      <td>0.0</td>\n",
              "      <td>122179.11</td>\n",
              "      <td>03 - UNIVERSITARIO</td>\n",
              "      <td>0</td>\n",
              "      <td>0</td>\n",
              "      <td>1</td>\n",
              "      <td>0</td>\n",
              "      <td>0</td>\n",
              "      <td>0</td>\n",
              "      <td>0</td>\n",
              "      <td>0</td>\n",
              "      <td>0</td>\n",
              "      <td>0</td>\n",
              "      <td>0</td>\n",
              "      <td>0</td>\n",
              "      <td>0</td>\n",
              "      <td>0</td>\n",
              "      <td>0</td>\n",
              "      <td>0</td>\n",
              "      <td>0</td>\n",
              "      <td>0</td>\n",
              "      <td>0</td>\n",
              "      <td>0</td>\n",
              "      <td>0</td>\n",
              "      <td>0.0</td>\n",
              "      <td>0.0</td>\n",
              "      <td>0</td>\n",
              "    </tr>\n",
              "    <tr>\n",
              "      <th>3</th>\n",
              "      <td>3</td>\n",
              "      <td>2015-01-28</td>\n",
              "      <td>1050613</td>\n",
              "      <td>N</td>\n",
              "      <td>ES</td>\n",
              "      <td>H</td>\n",
              "      <td>22</td>\n",
              "      <td>2012-08-10</td>\n",
              "      <td>0.0</td>\n",
              "      <td>35</td>\n",
              "      <td>1.0</td>\n",
              "      <td>1</td>\n",
              "      <td>I</td>\n",
              "      <td>S</td>\n",
              "      <td>N</td>\n",
              "      <td>KHD</td>\n",
              "      <td>N</td>\n",
              "      <td>1.0</td>\n",
              "      <td>50.0</td>\n",
              "      <td>ZARAGOZA</td>\n",
              "      <td>0.0</td>\n",
              "      <td>119775.54</td>\n",
              "      <td>03 - UNIVERSITARIO</td>\n",
              "      <td>0</td>\n",
              "      <td>0</td>\n",
              "      <td>0</td>\n",
              "      <td>0</td>\n",
              "      <td>0</td>\n",
              "      <td>0</td>\n",
              "      <td>0</td>\n",
              "      <td>0</td>\n",
              "      <td>0</td>\n",
              "      <td>1</td>\n",
              "      <td>0</td>\n",
              "      <td>0</td>\n",
              "      <td>0</td>\n",
              "      <td>0</td>\n",
              "      <td>0</td>\n",
              "      <td>0</td>\n",
              "      <td>0</td>\n",
              "      <td>0</td>\n",
              "      <td>0</td>\n",
              "      <td>0</td>\n",
              "      <td>0</td>\n",
              "      <td>0.0</td>\n",
              "      <td>0.0</td>\n",
              "      <td>0</td>\n",
              "    </tr>\n",
              "    <tr>\n",
              "      <th>4</th>\n",
              "      <td>4</td>\n",
              "      <td>2015-01-28</td>\n",
              "      <td>1050614</td>\n",
              "      <td>N</td>\n",
              "      <td>ES</td>\n",
              "      <td>V</td>\n",
              "      <td>23</td>\n",
              "      <td>2012-08-10</td>\n",
              "      <td>0.0</td>\n",
              "      <td>35</td>\n",
              "      <td>1.0</td>\n",
              "      <td>1</td>\n",
              "      <td>A</td>\n",
              "      <td>S</td>\n",
              "      <td>N</td>\n",
              "      <td>KHE</td>\n",
              "      <td>N</td>\n",
              "      <td>1.0</td>\n",
              "      <td>50.0</td>\n",
              "      <td>ZARAGOZA</td>\n",
              "      <td>1.0</td>\n",
              "      <td>NaN</td>\n",
              "      <td>03 - UNIVERSITARIO</td>\n",
              "      <td>0</td>\n",
              "      <td>0</td>\n",
              "      <td>1</td>\n",
              "      <td>0</td>\n",
              "      <td>0</td>\n",
              "      <td>0</td>\n",
              "      <td>0</td>\n",
              "      <td>0</td>\n",
              "      <td>0</td>\n",
              "      <td>0</td>\n",
              "      <td>0</td>\n",
              "      <td>0</td>\n",
              "      <td>0</td>\n",
              "      <td>0</td>\n",
              "      <td>0</td>\n",
              "      <td>0</td>\n",
              "      <td>0</td>\n",
              "      <td>0</td>\n",
              "      <td>0</td>\n",
              "      <td>0</td>\n",
              "      <td>0</td>\n",
              "      <td>0.0</td>\n",
              "      <td>0.0</td>\n",
              "      <td>0</td>\n",
              "    </tr>\n",
              "    <tr>\n",
              "      <th>5</th>\n",
              "      <td>5</td>\n",
              "      <td>2015-01-28</td>\n",
              "      <td>1050615</td>\n",
              "      <td>N</td>\n",
              "      <td>ES</td>\n",
              "      <td>H</td>\n",
              "      <td>23</td>\n",
              "      <td>2012-08-10</td>\n",
              "      <td>0.0</td>\n",
              "      <td>35</td>\n",
              "      <td>1.0</td>\n",
              "      <td>1</td>\n",
              "      <td>I</td>\n",
              "      <td>S</td>\n",
              "      <td>N</td>\n",
              "      <td>KHE</td>\n",
              "      <td>N</td>\n",
              "      <td>1.0</td>\n",
              "      <td>45.0</td>\n",
              "      <td>TOLEDO</td>\n",
              "      <td>0.0</td>\n",
              "      <td>22220.04</td>\n",
              "      <td>03 - UNIVERSITARIO</td>\n",
              "      <td>0</td>\n",
              "      <td>0</td>\n",
              "      <td>1</td>\n",
              "      <td>0</td>\n",
              "      <td>0</td>\n",
              "      <td>0</td>\n",
              "      <td>0</td>\n",
              "      <td>0</td>\n",
              "      <td>0</td>\n",
              "      <td>0</td>\n",
              "      <td>0</td>\n",
              "      <td>0</td>\n",
              "      <td>0</td>\n",
              "      <td>0</td>\n",
              "      <td>0</td>\n",
              "      <td>0</td>\n",
              "      <td>0</td>\n",
              "      <td>0</td>\n",
              "      <td>0</td>\n",
              "      <td>0</td>\n",
              "      <td>0</td>\n",
              "      <td>0.0</td>\n",
              "      <td>0.0</td>\n",
              "      <td>0</td>\n",
              "    </tr>\n",
              "    <tr>\n",
              "      <th>6</th>\n",
              "      <td>6</td>\n",
              "      <td>2015-01-28</td>\n",
              "      <td>1050616</td>\n",
              "      <td>N</td>\n",
              "      <td>ES</td>\n",
              "      <td>H</td>\n",
              "      <td>23</td>\n",
              "      <td>2012-08-10</td>\n",
              "      <td>0.0</td>\n",
              "      <td>35</td>\n",
              "      <td>1.0</td>\n",
              "      <td>1</td>\n",
              "      <td>I</td>\n",
              "      <td>S</td>\n",
              "      <td>N</td>\n",
              "      <td>KHE</td>\n",
              "      <td>N</td>\n",
              "      <td>1.0</td>\n",
              "      <td>24.0</td>\n",
              "      <td>LEON</td>\n",
              "      <td>0.0</td>\n",
              "      <td>295590.36</td>\n",
              "      <td>03 - UNIVERSITARIO</td>\n",
              "      <td>0</td>\n",
              "      <td>0</td>\n",
              "      <td>1</td>\n",
              "      <td>0</td>\n",
              "      <td>0</td>\n",
              "      <td>0</td>\n",
              "      <td>0</td>\n",
              "      <td>0</td>\n",
              "      <td>0</td>\n",
              "      <td>0</td>\n",
              "      <td>0</td>\n",
              "      <td>0</td>\n",
              "      <td>0</td>\n",
              "      <td>0</td>\n",
              "      <td>0</td>\n",
              "      <td>0</td>\n",
              "      <td>0</td>\n",
              "      <td>0</td>\n",
              "      <td>0</td>\n",
              "      <td>0</td>\n",
              "      <td>0</td>\n",
              "      <td>0.0</td>\n",
              "      <td>0.0</td>\n",
              "      <td>0</td>\n",
              "    </tr>\n",
              "    <tr>\n",
              "      <th>7</th>\n",
              "      <td>7</td>\n",
              "      <td>2015-01-28</td>\n",
              "      <td>1050617</td>\n",
              "      <td>N</td>\n",
              "      <td>ES</td>\n",
              "      <td>H</td>\n",
              "      <td>23</td>\n",
              "      <td>2012-08-10</td>\n",
              "      <td>0.0</td>\n",
              "      <td>35</td>\n",
              "      <td>1.0</td>\n",
              "      <td>1</td>\n",
              "      <td>A</td>\n",
              "      <td>S</td>\n",
              "      <td>N</td>\n",
              "      <td>KHE</td>\n",
              "      <td>N</td>\n",
              "      <td>1.0</td>\n",
              "      <td>50.0</td>\n",
              "      <td>ZARAGOZA</td>\n",
              "      <td>1.0</td>\n",
              "      <td>113316.66</td>\n",
              "      <td>03 - UNIVERSITARIO</td>\n",
              "      <td>0</td>\n",
              "      <td>0</td>\n",
              "      <td>1</td>\n",
              "      <td>0</td>\n",
              "      <td>0</td>\n",
              "      <td>0</td>\n",
              "      <td>0</td>\n",
              "      <td>0</td>\n",
              "      <td>0</td>\n",
              "      <td>0</td>\n",
              "      <td>0</td>\n",
              "      <td>0</td>\n",
              "      <td>0</td>\n",
              "      <td>0</td>\n",
              "      <td>0</td>\n",
              "      <td>0</td>\n",
              "      <td>0</td>\n",
              "      <td>0</td>\n",
              "      <td>0</td>\n",
              "      <td>0</td>\n",
              "      <td>0</td>\n",
              "      <td>0.0</td>\n",
              "      <td>0.0</td>\n",
              "      <td>0</td>\n",
              "    </tr>\n",
              "    <tr>\n",
              "      <th>8</th>\n",
              "      <td>8</td>\n",
              "      <td>2015-01-28</td>\n",
              "      <td>1050619</td>\n",
              "      <td>N</td>\n",
              "      <td>ES</td>\n",
              "      <td>H</td>\n",
              "      <td>24</td>\n",
              "      <td>2012-08-10</td>\n",
              "      <td>0.0</td>\n",
              "      <td>35</td>\n",
              "      <td>1.0</td>\n",
              "      <td>1</td>\n",
              "      <td>I</td>\n",
              "      <td>S</td>\n",
              "      <td>N</td>\n",
              "      <td>KHE</td>\n",
              "      <td>N</td>\n",
              "      <td>1.0</td>\n",
              "      <td>20.0</td>\n",
              "      <td>GIPUZKOA</td>\n",
              "      <td>0.0</td>\n",
              "      <td>NaN</td>\n",
              "      <td>03 - UNIVERSITARIO</td>\n",
              "      <td>0</td>\n",
              "      <td>0</td>\n",
              "      <td>1</td>\n",
              "      <td>0</td>\n",
              "      <td>0</td>\n",
              "      <td>0</td>\n",
              "      <td>0</td>\n",
              "      <td>0</td>\n",
              "      <td>0</td>\n",
              "      <td>0</td>\n",
              "      <td>0</td>\n",
              "      <td>0</td>\n",
              "      <td>0</td>\n",
              "      <td>0</td>\n",
              "      <td>0</td>\n",
              "      <td>0</td>\n",
              "      <td>0</td>\n",
              "      <td>0</td>\n",
              "      <td>0</td>\n",
              "      <td>0</td>\n",
              "      <td>0</td>\n",
              "      <td>0.0</td>\n",
              "      <td>0.0</td>\n",
              "      <td>0</td>\n",
              "    </tr>\n",
              "    <tr>\n",
              "      <th>9</th>\n",
              "      <td>9</td>\n",
              "      <td>2015-01-28</td>\n",
              "      <td>1050620</td>\n",
              "      <td>N</td>\n",
              "      <td>ES</td>\n",
              "      <td>H</td>\n",
              "      <td>23</td>\n",
              "      <td>2012-08-10</td>\n",
              "      <td>0.0</td>\n",
              "      <td>35</td>\n",
              "      <td>1.0</td>\n",
              "      <td>1</td>\n",
              "      <td>I</td>\n",
              "      <td>S</td>\n",
              "      <td>N</td>\n",
              "      <td>KHE</td>\n",
              "      <td>N</td>\n",
              "      <td>1.0</td>\n",
              "      <td>10.0</td>\n",
              "      <td>CACERES</td>\n",
              "      <td>0.0</td>\n",
              "      <td>113194.98</td>\n",
              "      <td>03 - UNIVERSITARIO</td>\n",
              "      <td>0</td>\n",
              "      <td>0</td>\n",
              "      <td>1</td>\n",
              "      <td>0</td>\n",
              "      <td>0</td>\n",
              "      <td>0</td>\n",
              "      <td>0</td>\n",
              "      <td>0</td>\n",
              "      <td>0</td>\n",
              "      <td>0</td>\n",
              "      <td>0</td>\n",
              "      <td>0</td>\n",
              "      <td>0</td>\n",
              "      <td>0</td>\n",
              "      <td>0</td>\n",
              "      <td>0</td>\n",
              "      <td>0</td>\n",
              "      <td>0</td>\n",
              "      <td>0</td>\n",
              "      <td>0</td>\n",
              "      <td>0</td>\n",
              "      <td>0.0</td>\n",
              "      <td>0.0</td>\n",
              "      <td>0</td>\n",
              "    </tr>\n",
              "  </tbody>\n",
              "</table>\n",
              "</div>"
            ],
            "text/plain": [
              "   Unnamed: 0  fecha_dato  ...  ind_nom_pens_ult1 ind_recibo_ult1\n",
              "0           0  2015-01-28  ...                0.0               0\n",
              "1           1  2015-01-28  ...                0.0               0\n",
              "2           2  2015-01-28  ...                0.0               0\n",
              "3           3  2015-01-28  ...                0.0               0\n",
              "4           4  2015-01-28  ...                0.0               0\n",
              "5           5  2015-01-28  ...                0.0               0\n",
              "6           6  2015-01-28  ...                0.0               0\n",
              "7           7  2015-01-28  ...                0.0               0\n",
              "8           8  2015-01-28  ...                0.0               0\n",
              "9           9  2015-01-28  ...                0.0               0\n",
              "\n",
              "[10 rows x 47 columns]"
            ]
          },
          "metadata": {
            "tags": []
          },
          "execution_count": 5
        }
      ]
    },
    {
      "cell_type": "code",
      "metadata": {
        "id": "0e27ToA7n2Qq",
        "colab_type": "code",
        "outputId": "6618541b-6751-4184-d402-c64dd3de5653",
        "colab": {
          "base_uri": "https://localhost:8080/",
          "height": 35
        }
      },
      "source": [
        "train.shape"
      ],
      "execution_count": 0,
      "outputs": [
        {
          "output_type": "execute_result",
          "data": {
            "text/plain": [
              "(13621268, 47)"
            ]
          },
          "metadata": {
            "tags": []
          },
          "execution_count": 6
        }
      ]
    },
    {
      "cell_type": "code",
      "metadata": {
        "id": "AZBiQF8Sn3Kk",
        "colab_type": "code",
        "outputId": "7ad75aa7-a4d5-4e03-a796-52ea70f71d87",
        "colab": {
          "base_uri": "https://localhost:8080/",
          "height": 899
        }
      },
      "source": [
        "train.dtypes"
      ],
      "execution_count": 0,
      "outputs": [
        {
          "output_type": "execute_result",
          "data": {
            "text/plain": [
              "Unnamed: 0                 int64\n",
              "fecha_dato                object\n",
              "ncodpers                   int64\n",
              "ind_empleado              object\n",
              "pais_residencia           object\n",
              "sexo                      object\n",
              "age                       object\n",
              "fecha_alta                object\n",
              "ind_nuevo                float64\n",
              "antiguedad                object\n",
              "indrel                   float64\n",
              "indrel_1mes               object\n",
              "tiprel_1mes               object\n",
              "indresi                   object\n",
              "indext                    object\n",
              "canal_entrada             object\n",
              "indfall                   object\n",
              "tipodom                  float64\n",
              "cod_prov                 float64\n",
              "nomprov                   object\n",
              "ind_actividad_cliente    float64\n",
              "renta                    float64\n",
              "segmento                  object\n",
              "ind_ahor_fin_ult1          int64\n",
              "ind_aval_fin_ult1          int64\n",
              "ind_cco_fin_ult1           int64\n",
              "ind_cder_fin_ult1          int64\n",
              "ind_cno_fin_ult1           int64\n",
              "ind_ctju_fin_ult1          int64\n",
              "ind_ctma_fin_ult1          int64\n",
              "ind_ctop_fin_ult1          int64\n",
              "ind_ctpp_fin_ult1          int64\n",
              "ind_deco_fin_ult1          int64\n",
              "ind_deme_fin_ult1          int64\n",
              "ind_dela_fin_ult1          int64\n",
              "ind_ecue_fin_ult1          int64\n",
              "ind_fond_fin_ult1          int64\n",
              "ind_hip_fin_ult1           int64\n",
              "ind_plan_fin_ult1          int64\n",
              "ind_pres_fin_ult1          int64\n",
              "ind_reca_fin_ult1          int64\n",
              "ind_tjcr_fin_ult1          int64\n",
              "ind_valo_fin_ult1          int64\n",
              "ind_viv_fin_ult1           int64\n",
              "ind_nomina_ult1          float64\n",
              "ind_nom_pens_ult1        float64\n",
              "ind_recibo_ult1            int64\n",
              "dtype: object"
            ]
          },
          "metadata": {
            "tags": []
          },
          "execution_count": 7
        }
      ]
    },
    {
      "cell_type": "code",
      "metadata": {
        "id": "mS5ofO9bIf42",
        "colab_type": "code",
        "outputId": "5457e3ca-30cd-4937-c4f2-4898bcbe3d09",
        "colab": {
          "base_uri": "https://localhost:8080/",
          "height": 274
        }
      },
      "source": [
        "train.columns"
      ],
      "execution_count": 0,
      "outputs": [
        {
          "output_type": "execute_result",
          "data": {
            "text/plain": [
              "Index(['Unnamed: 0', 'fecha_dato', 'ncodpers', 'ind_empleado',\n",
              "       'pais_residencia', 'sexo', 'age', 'fecha_alta', 'ind_nuevo',\n",
              "       'antiguedad', 'indrel', 'indrel_1mes', 'tiprel_1mes', 'indresi',\n",
              "       'indext', 'canal_entrada', 'indfall', 'tipodom', 'cod_prov', 'nomprov',\n",
              "       'ind_actividad_cliente', 'renta', 'segmento', 'ind_ahor_fin_ult1',\n",
              "       'ind_aval_fin_ult1', 'ind_cco_fin_ult1', 'ind_cder_fin_ult1',\n",
              "       'ind_cno_fin_ult1', 'ind_ctju_fin_ult1', 'ind_ctma_fin_ult1',\n",
              "       'ind_ctop_fin_ult1', 'ind_ctpp_fin_ult1', 'ind_deco_fin_ult1',\n",
              "       'ind_deme_fin_ult1', 'ind_dela_fin_ult1', 'ind_ecue_fin_ult1',\n",
              "       'ind_fond_fin_ult1', 'ind_hip_fin_ult1', 'ind_plan_fin_ult1',\n",
              "       'ind_pres_fin_ult1', 'ind_reca_fin_ult1', 'ind_tjcr_fin_ult1',\n",
              "       'ind_valo_fin_ult1', 'ind_viv_fin_ult1', 'ind_nomina_ult1',\n",
              "       'ind_nom_pens_ult1', 'ind_recibo_ult1'],\n",
              "      dtype='object')"
            ]
          },
          "metadata": {
            "tags": []
          },
          "execution_count": 8
        }
      ]
    },
    {
      "cell_type": "code",
      "metadata": {
        "id": "1UGj_rCCikmJ",
        "colab_type": "code",
        "colab": {}
      },
      "source": [
        "train = train.rename(columns={\"fecha_dato\": \"date\", \"ncodpers\": \"CustomerId\", \"ind_empleado\": \"EmployeeIndex\", \"pais_residencia\": \"Country\",\n",
        "                                 \"sexo\": \"sex\", \"fecha_alta\": \"FirstDay\", \"ind_nuevo\": \"NewCustomer\", \"antiguedad\": \"Seniority\",\n",
        "                                 \"indrel\": \"Primary\", \"indrel_1mes\": \"CustomerType\", \"tiprel_1mes\": \"CustomerRelation\",\n",
        "                                 \"indresi\": \"Residence_Bank\", \"indext\": \"Birthcountry_Bank\", \"canal_entrada\": \"channel\",\n",
        "                                 \"indfall\": \"DeceasedIndex\", \"tipodom\": \"AddresType\", \"cod_prov\": \"ProvinceCode\", \"nomprov\": \"ProvinceName\",\n",
        "                                 \"ind_actividad_cliente\": \"ActivityIndex\", \"renta\": \"GrossIncome\", \"segmento\": \"Segmentation\"})"
      ],
      "execution_count": 0,
      "outputs": []
    },
    {
      "cell_type": "code",
      "metadata": {
        "id": "HPRJw8BMjlUh",
        "colab_type": "code",
        "outputId": "d9eb8112-da9d-499f-cff3-dbd3780da281",
        "colab": {
          "base_uri": "https://localhost:8080/",
          "height": 293
        }
      },
      "source": [
        "train.columns"
      ],
      "execution_count": 0,
      "outputs": [
        {
          "output_type": "execute_result",
          "data": {
            "text/plain": [
              "Index(['Unnamed: 0', 'date', 'CustomerId', 'EmployeeIndex', 'Country', 'sex',\n",
              "       'age', 'FirstDay', 'NewCustomer', 'Seniority', 'Primary',\n",
              "       'CustomerType', 'CustomerRelation', 'Residence_Bank',\n",
              "       'Birthcountry_Bank', 'channel', 'DeceasedIndex', 'AddresType',\n",
              "       'ProvinceCode', 'ProvinceName', 'ActivityIndex', 'GrossIncome',\n",
              "       'Segmentation', 'ind_ahor_fin_ult1', 'ind_aval_fin_ult1',\n",
              "       'ind_cco_fin_ult1', 'ind_cder_fin_ult1', 'ind_cno_fin_ult1',\n",
              "       'ind_ctju_fin_ult1', 'ind_ctma_fin_ult1', 'ind_ctop_fin_ult1',\n",
              "       'ind_ctpp_fin_ult1', 'ind_deco_fin_ult1', 'ind_deme_fin_ult1',\n",
              "       'ind_dela_fin_ult1', 'ind_ecue_fin_ult1', 'ind_fond_fin_ult1',\n",
              "       'ind_hip_fin_ult1', 'ind_plan_fin_ult1', 'ind_pres_fin_ult1',\n",
              "       'ind_reca_fin_ult1', 'ind_tjcr_fin_ult1', 'ind_valo_fin_ult1',\n",
              "       'ind_viv_fin_ult1', 'ind_nomina_ult1', 'ind_nom_pens_ult1',\n",
              "       'ind_recibo_ult1'],\n",
              "      dtype='object')"
            ]
          },
          "metadata": {
            "tags": []
          },
          "execution_count": 10
        }
      ]
    },
    {
      "cell_type": "code",
      "metadata": {
        "id": "EFw6MORR-8L_",
        "colab_type": "code",
        "colab": {}
      },
      "source": [
        "EDA = train[['date', 'CustomerId', 'Country', 'sex', 'age', 'ActivityIndex', 'GrossIncome', 'Segmentation']]"
      ],
      "execution_count": 0,
      "outputs": []
    },
    {
      "cell_type": "code",
      "metadata": {
        "id": "PMDpju5j_ZEm",
        "colab_type": "code",
        "outputId": "33d18f3f-7652-49b8-f560-94edce3a24df",
        "colab": {
          "base_uri": "https://localhost:8080/",
          "height": 363
        }
      },
      "source": [
        "EDA.head(10)"
      ],
      "execution_count": 0,
      "outputs": [
        {
          "output_type": "execute_result",
          "data": {
            "text/html": [
              "<div>\n",
              "<style scoped>\n",
              "    .dataframe tbody tr th:only-of-type {\n",
              "        vertical-align: middle;\n",
              "    }\n",
              "\n",
              "    .dataframe tbody tr th {\n",
              "        vertical-align: top;\n",
              "    }\n",
              "\n",
              "    .dataframe thead th {\n",
              "        text-align: right;\n",
              "    }\n",
              "</style>\n",
              "<table border=\"1\" class=\"dataframe\">\n",
              "  <thead>\n",
              "    <tr style=\"text-align: right;\">\n",
              "      <th></th>\n",
              "      <th>date</th>\n",
              "      <th>CustomerId</th>\n",
              "      <th>Country</th>\n",
              "      <th>sex</th>\n",
              "      <th>age</th>\n",
              "      <th>ActivityIndex</th>\n",
              "      <th>GrossIncome</th>\n",
              "      <th>Segmentation</th>\n",
              "    </tr>\n",
              "  </thead>\n",
              "  <tbody>\n",
              "    <tr>\n",
              "      <th>0</th>\n",
              "      <td>2015-01-28</td>\n",
              "      <td>1375586</td>\n",
              "      <td>ES</td>\n",
              "      <td>H</td>\n",
              "      <td>35</td>\n",
              "      <td>1.0</td>\n",
              "      <td>87218.10</td>\n",
              "      <td>02 - PARTICULARES</td>\n",
              "    </tr>\n",
              "    <tr>\n",
              "      <th>1</th>\n",
              "      <td>2015-01-28</td>\n",
              "      <td>1050611</td>\n",
              "      <td>ES</td>\n",
              "      <td>V</td>\n",
              "      <td>23</td>\n",
              "      <td>0.0</td>\n",
              "      <td>35548.74</td>\n",
              "      <td>03 - UNIVERSITARIO</td>\n",
              "    </tr>\n",
              "    <tr>\n",
              "      <th>2</th>\n",
              "      <td>2015-01-28</td>\n",
              "      <td>1050612</td>\n",
              "      <td>ES</td>\n",
              "      <td>V</td>\n",
              "      <td>23</td>\n",
              "      <td>0.0</td>\n",
              "      <td>122179.11</td>\n",
              "      <td>03 - UNIVERSITARIO</td>\n",
              "    </tr>\n",
              "    <tr>\n",
              "      <th>3</th>\n",
              "      <td>2015-01-28</td>\n",
              "      <td>1050613</td>\n",
              "      <td>ES</td>\n",
              "      <td>H</td>\n",
              "      <td>22</td>\n",
              "      <td>0.0</td>\n",
              "      <td>119775.54</td>\n",
              "      <td>03 - UNIVERSITARIO</td>\n",
              "    </tr>\n",
              "    <tr>\n",
              "      <th>4</th>\n",
              "      <td>2015-01-28</td>\n",
              "      <td>1050614</td>\n",
              "      <td>ES</td>\n",
              "      <td>V</td>\n",
              "      <td>23</td>\n",
              "      <td>1.0</td>\n",
              "      <td>NaN</td>\n",
              "      <td>03 - UNIVERSITARIO</td>\n",
              "    </tr>\n",
              "    <tr>\n",
              "      <th>5</th>\n",
              "      <td>2015-01-28</td>\n",
              "      <td>1050615</td>\n",
              "      <td>ES</td>\n",
              "      <td>H</td>\n",
              "      <td>23</td>\n",
              "      <td>0.0</td>\n",
              "      <td>22220.04</td>\n",
              "      <td>03 - UNIVERSITARIO</td>\n",
              "    </tr>\n",
              "    <tr>\n",
              "      <th>6</th>\n",
              "      <td>2015-01-28</td>\n",
              "      <td>1050616</td>\n",
              "      <td>ES</td>\n",
              "      <td>H</td>\n",
              "      <td>23</td>\n",
              "      <td>0.0</td>\n",
              "      <td>295590.36</td>\n",
              "      <td>03 - UNIVERSITARIO</td>\n",
              "    </tr>\n",
              "    <tr>\n",
              "      <th>7</th>\n",
              "      <td>2015-01-28</td>\n",
              "      <td>1050617</td>\n",
              "      <td>ES</td>\n",
              "      <td>H</td>\n",
              "      <td>23</td>\n",
              "      <td>1.0</td>\n",
              "      <td>113316.66</td>\n",
              "      <td>03 - UNIVERSITARIO</td>\n",
              "    </tr>\n",
              "    <tr>\n",
              "      <th>8</th>\n",
              "      <td>2015-01-28</td>\n",
              "      <td>1050619</td>\n",
              "      <td>ES</td>\n",
              "      <td>H</td>\n",
              "      <td>24</td>\n",
              "      <td>0.0</td>\n",
              "      <td>NaN</td>\n",
              "      <td>03 - UNIVERSITARIO</td>\n",
              "    </tr>\n",
              "    <tr>\n",
              "      <th>9</th>\n",
              "      <td>2015-01-28</td>\n",
              "      <td>1050620</td>\n",
              "      <td>ES</td>\n",
              "      <td>H</td>\n",
              "      <td>23</td>\n",
              "      <td>0.0</td>\n",
              "      <td>113194.98</td>\n",
              "      <td>03 - UNIVERSITARIO</td>\n",
              "    </tr>\n",
              "  </tbody>\n",
              "</table>\n",
              "</div>"
            ],
            "text/plain": [
              "         date  CustomerId  ... GrossIncome        Segmentation\n",
              "0  2015-01-28     1375586  ...    87218.10   02 - PARTICULARES\n",
              "1  2015-01-28     1050611  ...    35548.74  03 - UNIVERSITARIO\n",
              "2  2015-01-28     1050612  ...   122179.11  03 - UNIVERSITARIO\n",
              "3  2015-01-28     1050613  ...   119775.54  03 - UNIVERSITARIO\n",
              "4  2015-01-28     1050614  ...         NaN  03 - UNIVERSITARIO\n",
              "5  2015-01-28     1050615  ...    22220.04  03 - UNIVERSITARIO\n",
              "6  2015-01-28     1050616  ...   295590.36  03 - UNIVERSITARIO\n",
              "7  2015-01-28     1050617  ...   113316.66  03 - UNIVERSITARIO\n",
              "8  2015-01-28     1050619  ...         NaN  03 - UNIVERSITARIO\n",
              "9  2015-01-28     1050620  ...   113194.98  03 - UNIVERSITARIO\n",
              "\n",
              "[10 rows x 8 columns]"
            ]
          },
          "metadata": {
            "tags": []
          },
          "execution_count": 12
        }
      ]
    },
    {
      "cell_type": "code",
      "metadata": {
        "id": "hD2FYYqb_hgf",
        "colab_type": "code",
        "outputId": "cf4e63a2-5559-467e-f3ec-8faf7327cf54",
        "colab": {
          "base_uri": "https://localhost:8080/",
          "height": 35
        }
      },
      "source": [
        "EDA.sex.unique()"
      ],
      "execution_count": 0,
      "outputs": [
        {
          "output_type": "execute_result",
          "data": {
            "text/plain": [
              "array(['H', 'V', nan], dtype=object)"
            ]
          },
          "metadata": {
            "tags": []
          },
          "execution_count": 13
        }
      ]
    },
    {
      "cell_type": "code",
      "metadata": {
        "id": "nd4L62IFBx2b",
        "colab_type": "code",
        "outputId": "8398bd80-46c9-4697-8207-e63e8c67f976",
        "colab": {
          "base_uri": "https://localhost:8080/",
          "height": 127
        }
      },
      "source": [
        "EDA['age'] = pd.to_numeric(EDA[EDA['age'].str.strip() != 'NA']['age'])"
      ],
      "execution_count": 0,
      "outputs": [
        {
          "output_type": "stream",
          "text": [
            "/usr/local/lib/python3.6/dist-packages/ipykernel_launcher.py:1: SettingWithCopyWarning: \n",
            "A value is trying to be set on a copy of a slice from a DataFrame.\n",
            "Try using .loc[row_indexer,col_indexer] = value instead\n",
            "\n",
            "See the caveats in the documentation: http://pandas.pydata.org/pandas-docs/stable/user_guide/indexing.html#returning-a-view-versus-a-copy\n",
            "  \"\"\"Entry point for launching an IPython kernel.\n"
          ],
          "name": "stderr"
        }
      ]
    },
    {
      "cell_type": "code",
      "metadata": {
        "id": "lTfnEAbCongJ",
        "colab_type": "code",
        "outputId": "70b8c6ea-fff9-4c45-aaef-557328a02f93",
        "colab": {
          "base_uri": "https://localhost:8080/",
          "height": 182
        }
      },
      "source": [
        "EDA.dtypes"
      ],
      "execution_count": 0,
      "outputs": [
        {
          "output_type": "execute_result",
          "data": {
            "text/plain": [
              "date              object\n",
              "CustomerId         int64\n",
              "Country           object\n",
              "sex               object\n",
              "age              float64\n",
              "ActivityIndex    float64\n",
              "GrossIncome      float64\n",
              "Segmentation      object\n",
              "dtype: object"
            ]
          },
          "metadata": {
            "tags": []
          },
          "execution_count": 15
        }
      ]
    },
    {
      "cell_type": "code",
      "metadata": {
        "id": "u31-XBeDpBm2",
        "colab_type": "code",
        "outputId": "8f0a164a-bd44-42a0-afae-d3f30e5dbadd",
        "colab": {
          "base_uri": "https://localhost:8080/",
          "height": 363
        }
      },
      "source": [
        "EDA.head(10)"
      ],
      "execution_count": 0,
      "outputs": [
        {
          "output_type": "execute_result",
          "data": {
            "text/html": [
              "<div>\n",
              "<style scoped>\n",
              "    .dataframe tbody tr th:only-of-type {\n",
              "        vertical-align: middle;\n",
              "    }\n",
              "\n",
              "    .dataframe tbody tr th {\n",
              "        vertical-align: top;\n",
              "    }\n",
              "\n",
              "    .dataframe thead th {\n",
              "        text-align: right;\n",
              "    }\n",
              "</style>\n",
              "<table border=\"1\" class=\"dataframe\">\n",
              "  <thead>\n",
              "    <tr style=\"text-align: right;\">\n",
              "      <th></th>\n",
              "      <th>date</th>\n",
              "      <th>CustomerId</th>\n",
              "      <th>Country</th>\n",
              "      <th>sex</th>\n",
              "      <th>age</th>\n",
              "      <th>ActivityIndex</th>\n",
              "      <th>GrossIncome</th>\n",
              "      <th>Segmentation</th>\n",
              "    </tr>\n",
              "  </thead>\n",
              "  <tbody>\n",
              "    <tr>\n",
              "      <th>0</th>\n",
              "      <td>2015-01-28</td>\n",
              "      <td>1375586</td>\n",
              "      <td>ES</td>\n",
              "      <td>H</td>\n",
              "      <td>35.0</td>\n",
              "      <td>1.0</td>\n",
              "      <td>87218.10</td>\n",
              "      <td>02 - PARTICULARES</td>\n",
              "    </tr>\n",
              "    <tr>\n",
              "      <th>1</th>\n",
              "      <td>2015-01-28</td>\n",
              "      <td>1050611</td>\n",
              "      <td>ES</td>\n",
              "      <td>V</td>\n",
              "      <td>23.0</td>\n",
              "      <td>0.0</td>\n",
              "      <td>35548.74</td>\n",
              "      <td>03 - UNIVERSITARIO</td>\n",
              "    </tr>\n",
              "    <tr>\n",
              "      <th>2</th>\n",
              "      <td>2015-01-28</td>\n",
              "      <td>1050612</td>\n",
              "      <td>ES</td>\n",
              "      <td>V</td>\n",
              "      <td>23.0</td>\n",
              "      <td>0.0</td>\n",
              "      <td>122179.11</td>\n",
              "      <td>03 - UNIVERSITARIO</td>\n",
              "    </tr>\n",
              "    <tr>\n",
              "      <th>3</th>\n",
              "      <td>2015-01-28</td>\n",
              "      <td>1050613</td>\n",
              "      <td>ES</td>\n",
              "      <td>H</td>\n",
              "      <td>22.0</td>\n",
              "      <td>0.0</td>\n",
              "      <td>119775.54</td>\n",
              "      <td>03 - UNIVERSITARIO</td>\n",
              "    </tr>\n",
              "    <tr>\n",
              "      <th>4</th>\n",
              "      <td>2015-01-28</td>\n",
              "      <td>1050614</td>\n",
              "      <td>ES</td>\n",
              "      <td>V</td>\n",
              "      <td>23.0</td>\n",
              "      <td>1.0</td>\n",
              "      <td>NaN</td>\n",
              "      <td>03 - UNIVERSITARIO</td>\n",
              "    </tr>\n",
              "    <tr>\n",
              "      <th>5</th>\n",
              "      <td>2015-01-28</td>\n",
              "      <td>1050615</td>\n",
              "      <td>ES</td>\n",
              "      <td>H</td>\n",
              "      <td>23.0</td>\n",
              "      <td>0.0</td>\n",
              "      <td>22220.04</td>\n",
              "      <td>03 - UNIVERSITARIO</td>\n",
              "    </tr>\n",
              "    <tr>\n",
              "      <th>6</th>\n",
              "      <td>2015-01-28</td>\n",
              "      <td>1050616</td>\n",
              "      <td>ES</td>\n",
              "      <td>H</td>\n",
              "      <td>23.0</td>\n",
              "      <td>0.0</td>\n",
              "      <td>295590.36</td>\n",
              "      <td>03 - UNIVERSITARIO</td>\n",
              "    </tr>\n",
              "    <tr>\n",
              "      <th>7</th>\n",
              "      <td>2015-01-28</td>\n",
              "      <td>1050617</td>\n",
              "      <td>ES</td>\n",
              "      <td>H</td>\n",
              "      <td>23.0</td>\n",
              "      <td>1.0</td>\n",
              "      <td>113316.66</td>\n",
              "      <td>03 - UNIVERSITARIO</td>\n",
              "    </tr>\n",
              "    <tr>\n",
              "      <th>8</th>\n",
              "      <td>2015-01-28</td>\n",
              "      <td>1050619</td>\n",
              "      <td>ES</td>\n",
              "      <td>H</td>\n",
              "      <td>24.0</td>\n",
              "      <td>0.0</td>\n",
              "      <td>NaN</td>\n",
              "      <td>03 - UNIVERSITARIO</td>\n",
              "    </tr>\n",
              "    <tr>\n",
              "      <th>9</th>\n",
              "      <td>2015-01-28</td>\n",
              "      <td>1050620</td>\n",
              "      <td>ES</td>\n",
              "      <td>H</td>\n",
              "      <td>23.0</td>\n",
              "      <td>0.0</td>\n",
              "      <td>113194.98</td>\n",
              "      <td>03 - UNIVERSITARIO</td>\n",
              "    </tr>\n",
              "  </tbody>\n",
              "</table>\n",
              "</div>"
            ],
            "text/plain": [
              "         date  CustomerId  ... GrossIncome        Segmentation\n",
              "0  2015-01-28     1375586  ...    87218.10   02 - PARTICULARES\n",
              "1  2015-01-28     1050611  ...    35548.74  03 - UNIVERSITARIO\n",
              "2  2015-01-28     1050612  ...   122179.11  03 - UNIVERSITARIO\n",
              "3  2015-01-28     1050613  ...   119775.54  03 - UNIVERSITARIO\n",
              "4  2015-01-28     1050614  ...         NaN  03 - UNIVERSITARIO\n",
              "5  2015-01-28     1050615  ...    22220.04  03 - UNIVERSITARIO\n",
              "6  2015-01-28     1050616  ...   295590.36  03 - UNIVERSITARIO\n",
              "7  2015-01-28     1050617  ...   113316.66  03 - UNIVERSITARIO\n",
              "8  2015-01-28     1050619  ...         NaN  03 - UNIVERSITARIO\n",
              "9  2015-01-28     1050620  ...   113194.98  03 - UNIVERSITARIO\n",
              "\n",
              "[10 rows x 8 columns]"
            ]
          },
          "metadata": {
            "tags": []
          },
          "execution_count": 16
        }
      ]
    },
    {
      "cell_type": "code",
      "metadata": {
        "id": "IG8WGROmpF5G",
        "colab_type": "code",
        "colab": {}
      },
      "source": [
        "monthly_date = EDA.date.unique()"
      ],
      "execution_count": 0,
      "outputs": []
    },
    {
      "cell_type": "markdown",
      "metadata": {
        "id": "o-o64GlBNoDj",
        "colab_type": "text"
      },
      "source": [
        "### Distribution of Active vs Inactive Customers among Different Ages"
      ]
    },
    {
      "cell_type": "code",
      "metadata": {
        "id": "5wo_6T6YpJri",
        "colab_type": "code",
        "outputId": "37acc73a-bb87-4ad1-9108-5556de48bf32",
        "colab": {
          "base_uri": "https://localhost:8080/",
          "height": 1000
        }
      },
      "source": [
        "for date in monthly_date:\n",
        "  data = EDA[EDA.date == date]\n",
        "  a = data[(data.ActivityIndex == 1)&(data.age <= 100)].age\n",
        "  b = data[(data.ActivityIndex == 0)&(data.age <= 100)].age\n",
        "  bins = sorted(data[data.age <= 100].age.unique())\n",
        "\n",
        "  plt.hist([a, b], bins, label=['Active', 'Inactive'])\n",
        "  plt.title('Distribution of Active vs Inactive by Age in ' + date, fontsize=10, color='black')\n",
        "  plt.xlabel('age')\n",
        "  plt.legend(loc='upper right')\n",
        "  plt.show()"
      ],
      "execution_count": 0,
      "outputs": [
        {
          "output_type": "display_data",
          "data": {
            "image/png": "[encoded data removed]",
            "text/plain": [
              "<Figure size 432x288 with 1 Axes>"
            ]
          },
          "metadata": {
            "tags": []
          }
        },
        {
          "output_type": "display_data",
          "data": {
            "image/png": "[encoded data removed]",
            "text/plain": [
              "<Figure size 432x288 with 1 Axes>"
            ]
          },
          "metadata": {
            "tags": []
          }
        },
        {
          "output_type": "display_data",
          "data": {
            "image/png": "[encoded data removed]",
            "text/plain": [
              "<Figure size 432x288 with 1 Axes>"
            ]
          },
          "metadata": {
            "tags": []
          }
        },
        {
          "output_type": "display_data",
          "data": {
            "image/png": "[encoded data removed]",
            "text/plain": [
              "<Figure size 432x288 with 1 Axes>"
            ]
          },
          "metadata": {
            "tags": []
          }
        },
        {
          "output_type": "display_data",
          "data": {
            "image/png": "[encoded data removed]",
            "text/plain": [
              "<Figure size 432x288 with 1 Axes>"
            ]
          },
          "metadata": {
            "tags": []
          }
        },
        {
          "output_type": "display_data",
          "data": {
            "image/png": "[encoded data removed]",
            "text/plain": [
              "<Figure size 432x288 with 1 Axes>"
            ]
          },
          "metadata": {
            "tags": []
          }
        },
        {
          "output_type": "display_data",
          "data": {
            "image/png": "[encoded data removed]",
            "text/plain": [
              "<Figure size 432x288 with 1 Axes>"
            ]
          },
          "metadata": {
            "tags": []
          }
        },
        {
          "output_type": "display_data",
          "data": {
            "image/png": "[encoded data removed]",
            "text/plain": [
              "<Figure size 432x288 with 1 Axes>"
            ]
          },
          "metadata": {
            "tags": []
          }
        },
        {
          "output_type": "display_data",
          "data": {
            "image/png": "[encoded data removed]",
            "text/plain": [
              "<Figure size 432x288 with 1 Axes>"
            ]
          },
          "metadata": {
            "tags": []
          }
        },
        {
          "output_type": "display_data",
          "data": {
            "image/png": "[encoded data removed]",
            "text/plain": [
              "<Figure size 432x288 with 1 Axes>"
            ]
          },
          "metadata": {
            "tags": []
          }
        },
        {
          "output_type": "display_data",
          "data": {
            "image/png": "[encoded data removed]",
            "text/plain": [
              "<Figure size 432x288 with 1 Axes>"
            ]
          },
          "metadata": {
            "tags": []
          }
        },
        {
          "output_type": "display_data",
          "data": {
            "image/png": "[encoded data removed]",
            "text/plain": [
              "<Figure size 432x288 with 1 Axes>"
            ]
          },
          "metadata": {
            "tags": []
          }
        },
        {
          "output_type": "display_data",
          "data": {
            "image/png": "[encoded data removed]",
            "text/plain": [
              "<Figure size 432x288 with 1 Axes>"
            ]
          },
          "metadata": {
            "tags": []
          }
        },
        {
          "output_type": "display_data",
          "data": {
            "image/png": "[encoded data removed]",
            "text/plain": [
              "<Figure size 432x288 with 1 Axes>"
            ]
          },
          "metadata": {
            "tags": []
          }
        },
        {
          "output_type": "display_data",
          "data": {
            "image/png": "[encoded data removed]",
            "text/plain": [
              "<Figure size 432x288 with 1 Axes>"
            ]
          },
          "metadata": {
            "tags": []
          }
        },
        {
          "output_type": "display_data",
          "data": {
            "image/png": "[encoded data removed]",
            "text/plain": [
              "<Figure size 432x288 with 1 Axes>"
            ]
          },
          "metadata": {
            "tags": []
          }
        },
        {
          "output_type": "display_data",
          "data": {
            "image/png": "[encoded data removed]",
            "text/plain": [
              "<Figure size 432x288 with 1 Axes>"
            ]
          },
          "metadata": {
            "tags": []
          }
        }
      ]
    },
    {
      "cell_type": "code",
      "metadata": {
        "id": "TsOjJ9UTr6s7",
        "colab_type": "code",
        "colab": {}
      },
      "source": [
        "sub1 = EDA[['date', 'CustomerId', 'sex', 'ActivityIndex']]"
      ],
      "execution_count": 0,
      "outputs": []
    },
    {
      "cell_type": "markdown",
      "metadata": {
        "id": "865QbBpCOFwe",
        "colab_type": "text"
      },
      "source": [
        "### Active vs Inctive Customers by Sex"
      ]
    },
    {
      "cell_type": "code",
      "metadata": {
        "id": "uUhvqZyI9y01",
        "colab_type": "code",
        "colab": {}
      },
      "source": [
        "df_a = sub1.groupby(['date', 'sex', 'ActivityIndex']).count()\n"
      ],
      "execution_count": 0,
      "outputs": []
    },
    {
      "cell_type": "code",
      "metadata": {
        "id": "CWK03qnSL4km",
        "colab_type": "code",
        "colab": {}
      },
      "source": [
        "df_a = df_a.reset_index(level=['sex','ActivityIndex','date'])"
      ],
      "execution_count": 0,
      "outputs": []
    },
    {
      "cell_type": "code",
      "metadata": {
        "id": "t71_0dqPL22l",
        "colab_type": "code",
        "colab": {}
      },
      "source": [
        "df_a = df_a.set_index(['sex','ActivityIndex','date'])['CustomerId'].unstack()"
      ],
      "execution_count": 0,
      "outputs": []
    },
    {
      "cell_type": "code",
      "metadata": {
        "id": "2ZZB9W3s_j9i",
        "colab_type": "code",
        "colab": {}
      },
      "source": [
        "df_a = df_a.T"
      ],
      "execution_count": 0,
      "outputs": []
    },
    {
      "cell_type": "code",
      "metadata": {
        "id": "yipGPtqQJiGk",
        "colab_type": "code",
        "outputId": "c4b446fd-f45d-42be-c1eb-1ccdeeb18672",
        "colab": {
          "base_uri": "https://localhost:8080/",
          "height": 645
        }
      },
      "source": [
        "df_a"
      ],
      "execution_count": 0,
      "outputs": [
        {
          "output_type": "execute_result",
          "data": {
            "text/html": [
              "<div>\n",
              "<style scoped>\n",
              "    .dataframe tbody tr th:only-of-type {\n",
              "        vertical-align: middle;\n",
              "    }\n",
              "\n",
              "    .dataframe tbody tr th {\n",
              "        vertical-align: top;\n",
              "    }\n",
              "\n",
              "    .dataframe thead tr th {\n",
              "        text-align: left;\n",
              "    }\n",
              "\n",
              "    .dataframe thead tr:last-of-type th {\n",
              "        text-align: right;\n",
              "    }\n",
              "</style>\n",
              "<table border=\"1\" class=\"dataframe\">\n",
              "  <thead>\n",
              "    <tr>\n",
              "      <th>sex</th>\n",
              "      <th colspan=\"2\" halign=\"left\">H</th>\n",
              "      <th colspan=\"2\" halign=\"left\">V</th>\n",
              "    </tr>\n",
              "    <tr>\n",
              "      <th>ActivityIndex</th>\n",
              "      <th>0.0</th>\n",
              "      <th>1.0</th>\n",
              "      <th>0.0</th>\n",
              "      <th>1.0</th>\n",
              "    </tr>\n",
              "    <tr>\n",
              "      <th>date</th>\n",
              "      <th></th>\n",
              "      <th></th>\n",
              "      <th></th>\n",
              "      <th></th>\n",
              "    </tr>\n",
              "  </thead>\n",
              "  <tbody>\n",
              "    <tr>\n",
              "      <th>2015-01-28</th>\n",
              "      <td>138887</td>\n",
              "      <td>140298</td>\n",
              "      <td>146955</td>\n",
              "      <td>192239</td>\n",
              "    </tr>\n",
              "    <tr>\n",
              "      <th>2015-02-28</th>\n",
              "      <td>138799</td>\n",
              "      <td>141675</td>\n",
              "      <td>146856</td>\n",
              "      <td>194028</td>\n",
              "    </tr>\n",
              "    <tr>\n",
              "      <th>2015-03-28</th>\n",
              "      <td>138628</td>\n",
              "      <td>142966</td>\n",
              "      <td>146692</td>\n",
              "      <td>195747</td>\n",
              "    </tr>\n",
              "    <tr>\n",
              "      <th>2015-04-28</th>\n",
              "      <td>138296</td>\n",
              "      <td>144169</td>\n",
              "      <td>146244</td>\n",
              "      <td>197291</td>\n",
              "    </tr>\n",
              "    <tr>\n",
              "      <th>2015-05-28</th>\n",
              "      <td>137982</td>\n",
              "      <td>145460</td>\n",
              "      <td>145766</td>\n",
              "      <td>199077</td>\n",
              "    </tr>\n",
              "    <tr>\n",
              "      <th>2015-06-28</th>\n",
              "      <td>137586</td>\n",
              "      <td>146654</td>\n",
              "      <td>145281</td>\n",
              "      <td>200651</td>\n",
              "    </tr>\n",
              "    <tr>\n",
              "      <th>2015-07-28</th>\n",
              "      <td>222774</td>\n",
              "      <td>150976</td>\n",
              "      <td>251034</td>\n",
              "      <td>204902</td>\n",
              "    </tr>\n",
              "    <tr>\n",
              "      <th>2015-08-28</th>\n",
              "      <td>226393</td>\n",
              "      <td>154626</td>\n",
              "      <td>254170</td>\n",
              "      <td>207848</td>\n",
              "    </tr>\n",
              "    <tr>\n",
              "      <th>2015-09-28</th>\n",
              "      <td>233855</td>\n",
              "      <td>159066</td>\n",
              "      <td>260601</td>\n",
              "      <td>211737</td>\n",
              "    </tr>\n",
              "    <tr>\n",
              "      <th>2015-10-28</th>\n",
              "      <td>245321</td>\n",
              "      <td>162493</td>\n",
              "      <td>269149</td>\n",
              "      <td>215088</td>\n",
              "    </tr>\n",
              "    <tr>\n",
              "      <th>2015-11-28</th>\n",
              "      <td>250995</td>\n",
              "      <td>164227</td>\n",
              "      <td>273297</td>\n",
              "      <td>217366</td>\n",
              "    </tr>\n",
              "    <tr>\n",
              "      <th>2015-12-28</th>\n",
              "      <td>252594</td>\n",
              "      <td>165321</td>\n",
              "      <td>274627</td>\n",
              "      <td>219242</td>\n",
              "    </tr>\n",
              "    <tr>\n",
              "      <th>2016-01-28</th>\n",
              "      <td>253030</td>\n",
              "      <td>166495</td>\n",
              "      <td>275384</td>\n",
              "      <td>221103</td>\n",
              "    </tr>\n",
              "    <tr>\n",
              "      <th>2016-02-28</th>\n",
              "      <td>254048</td>\n",
              "      <td>167299</td>\n",
              "      <td>276808</td>\n",
              "      <td>222476</td>\n",
              "    </tr>\n",
              "    <tr>\n",
              "      <th>2016-03-28</th>\n",
              "      <td>254498</td>\n",
              "      <td>168634</td>\n",
              "      <td>277564</td>\n",
              "      <td>224093</td>\n",
              "    </tr>\n",
              "    <tr>\n",
              "      <th>2016-04-28</th>\n",
              "      <td>255118</td>\n",
              "      <td>169266</td>\n",
              "      <td>278597</td>\n",
              "      <td>224991</td>\n",
              "    </tr>\n",
              "    <tr>\n",
              "      <th>2016-05-28</th>\n",
              "      <td>256029</td>\n",
              "      <td>169727</td>\n",
              "      <td>279613</td>\n",
              "      <td>225775</td>\n",
              "    </tr>\n",
              "  </tbody>\n",
              "</table>\n",
              "</div>"
            ],
            "text/plain": [
              "sex                 H               V        \n",
              "ActivityIndex     0.0     1.0     0.0     1.0\n",
              "date                                         \n",
              "2015-01-28     138887  140298  146955  192239\n",
              "2015-02-28     138799  141675  146856  194028\n",
              "2015-03-28     138628  142966  146692  195747\n",
              "2015-04-28     138296  144169  146244  197291\n",
              "2015-05-28     137982  145460  145766  199077\n",
              "2015-06-28     137586  146654  145281  200651\n",
              "2015-07-28     222774  150976  251034  204902\n",
              "2015-08-28     226393  154626  254170  207848\n",
              "2015-09-28     233855  159066  260601  211737\n",
              "2015-10-28     245321  162493  269149  215088\n",
              "2015-11-28     250995  164227  273297  217366\n",
              "2015-12-28     252594  165321  274627  219242\n",
              "2016-01-28     253030  166495  275384  221103\n",
              "2016-02-28     254048  167299  276808  222476\n",
              "2016-03-28     254498  168634  277564  224093\n",
              "2016-04-28     255118  169266  278597  224991\n",
              "2016-05-28     256029  169727  279613  225775"
            ]
          },
          "metadata": {
            "tags": []
          },
          "execution_count": 24
        }
      ]
    },
    {
      "cell_type": "code",
      "metadata": {
        "id": "yLPelxTJGAQt",
        "colab_type": "code",
        "colab": {}
      },
      "source": [
        "#df_a.H.plot(kind='barh', stacked=True, fontsize=14, figsize=[16,12], colormap='gist_rainbow')\n",
        "#plt.title('Distribution of Active vs Inactive Customers', fontsize=20, color='black') \n",
        "#plt.xlabel('Total number of Customer', fontsize=17, color='black') \n",
        "#plt.ylabel('Date', fontsize=17, color='black') \n",
        "#plt.legend(prop={'size':15}, loc=1)"
      ],
      "execution_count": 0,
      "outputs": []
    },
    {
      "cell_type": "code",
      "metadata": {
        "id": "ODfLCNTVORv5",
        "colab_type": "code",
        "colab": {}
      },
      "source": [
        "#df_a.V.plot(kind='barh', stacked=True, fontsize=14, figsize=[16,12], colormap='gist_rainbow')\n",
        "#plt.title('Distribution of products among customers by income group', fontsize=20, color='black') \n",
        "#plt.xlabel('Total number of products', fontsize=17, color='black') \n",
        "#plt.ylabel('Products_names', fontsize=17, color='black') \n",
        "#plt.legend(prop={'size':15}, loc=1)"
      ],
      "execution_count": 0,
      "outputs": []
    },
    {
      "cell_type": "markdown",
      "metadata": {
        "id": "n1OYkHInOpai",
        "colab_type": "text"
      },
      "source": [
        "### Active vs Inctive Customers by Levels"
      ]
    },
    {
      "cell_type": "code",
      "metadata": {
        "id": "YQqG_xLCOlPk",
        "colab_type": "code",
        "colab": {}
      },
      "source": [
        "sub2 = EDA[['date', 'CustomerId', 'Segmentation', 'ActivityIndex']]\n",
        "df = sub2.groupby(['date', 'Segmentation', 'ActivityIndex']).count()\n",
        "df = df.reset_index(level=['Segmentation','ActivityIndex','date'])\n",
        "df = df.set_index(['Segmentation','ActivityIndex','date'])['CustomerId'].unstack()\n",
        "\n",
        "df = df.T"
      ],
      "execution_count": 0,
      "outputs": []
    },
    {
      "cell_type": "code",
      "metadata": {
        "id": "wg3xlYB3OoZ_",
        "colab_type": "code",
        "outputId": "3086b2da-812b-43ba-ac2d-c4f3750405ed",
        "colab": {
          "base_uri": "https://localhost:8080/",
          "height": 645
        }
      },
      "source": [
        "df"
      ],
      "execution_count": 0,
      "outputs": [
        {
          "output_type": "execute_result",
          "data": {
            "text/html": [
              "<div>\n",
              "<style scoped>\n",
              "    .dataframe tbody tr th:only-of-type {\n",
              "        vertical-align: middle;\n",
              "    }\n",
              "\n",
              "    .dataframe tbody tr th {\n",
              "        vertical-align: top;\n",
              "    }\n",
              "\n",
              "    .dataframe thead tr th {\n",
              "        text-align: left;\n",
              "    }\n",
              "\n",
              "    .dataframe thead tr:last-of-type th {\n",
              "        text-align: right;\n",
              "    }\n",
              "</style>\n",
              "<table border=\"1\" class=\"dataframe\">\n",
              "  <thead>\n",
              "    <tr>\n",
              "      <th>Segmentation</th>\n",
              "      <th colspan=\"2\" halign=\"left\">01 - TOP</th>\n",
              "      <th colspan=\"2\" halign=\"left\">02 - PARTICULARES</th>\n",
              "      <th colspan=\"2\" halign=\"left\">03 - UNIVERSITARIO</th>\n",
              "    </tr>\n",
              "    <tr>\n",
              "      <th>ActivityIndex</th>\n",
              "      <th>0.0</th>\n",
              "      <th>1.0</th>\n",
              "      <th>0.0</th>\n",
              "      <th>1.0</th>\n",
              "      <th>0.0</th>\n",
              "      <th>1.0</th>\n",
              "    </tr>\n",
              "    <tr>\n",
              "      <th>date</th>\n",
              "      <th></th>\n",
              "      <th></th>\n",
              "      <th></th>\n",
              "      <th></th>\n",
              "      <th></th>\n",
              "      <th></th>\n",
              "    </tr>\n",
              "  </thead>\n",
              "  <tbody>\n",
              "    <tr>\n",
              "      <th>2015-01-28</th>\n",
              "      <td>304</td>\n",
              "      <td>30199</td>\n",
              "      <td>133245</td>\n",
              "      <td>227588</td>\n",
              "      <td>152263</td>\n",
              "      <td>74749</td>\n",
              "    </tr>\n",
              "    <tr>\n",
              "      <th>2015-02-28</th>\n",
              "      <td>379</td>\n",
              "      <td>30467</td>\n",
              "      <td>133134</td>\n",
              "      <td>230075</td>\n",
              "      <td>152112</td>\n",
              "      <td>75161</td>\n",
              "    </tr>\n",
              "    <tr>\n",
              "      <th>2015-03-28</th>\n",
              "      <td>440</td>\n",
              "      <td>30783</td>\n",
              "      <td>132941</td>\n",
              "      <td>232381</td>\n",
              "      <td>151914</td>\n",
              "      <td>75550</td>\n",
              "    </tr>\n",
              "    <tr>\n",
              "      <th>2015-04-28</th>\n",
              "      <td>475</td>\n",
              "      <td>31117</td>\n",
              "      <td>132363</td>\n",
              "      <td>234466</td>\n",
              "      <td>151696</td>\n",
              "      <td>75879</td>\n",
              "    </tr>\n",
              "    <tr>\n",
              "      <th>2015-05-28</th>\n",
              "      <td>475</td>\n",
              "      <td>31479</td>\n",
              "      <td>131801</td>\n",
              "      <td>236819</td>\n",
              "      <td>151467</td>\n",
              "      <td>76241</td>\n",
              "    </tr>\n",
              "    <tr>\n",
              "      <th>2015-06-28</th>\n",
              "      <td>395</td>\n",
              "      <td>31759</td>\n",
              "      <td>131242</td>\n",
              "      <td>238996</td>\n",
              "      <td>151230</td>\n",
              "      <td>76553</td>\n",
              "    </tr>\n",
              "    <tr>\n",
              "      <th>2015-07-28</th>\n",
              "      <td>476</td>\n",
              "      <td>31763</td>\n",
              "      <td>265103</td>\n",
              "      <td>240680</td>\n",
              "      <td>195515</td>\n",
              "      <td>76834</td>\n",
              "    </tr>\n",
              "    <tr>\n",
              "      <th>2015-08-28</th>\n",
              "      <td>454</td>\n",
              "      <td>32104</td>\n",
              "      <td>267252</td>\n",
              "      <td>242681</td>\n",
              "      <td>202293</td>\n",
              "      <td>81322</td>\n",
              "    </tr>\n",
              "    <tr>\n",
              "      <th>2015-09-28</th>\n",
              "      <td>539</td>\n",
              "      <td>32413</td>\n",
              "      <td>268515</td>\n",
              "      <td>245013</td>\n",
              "      <td>206940</td>\n",
              "      <td>86031</td>\n",
              "    </tr>\n",
              "    <tr>\n",
              "      <th>2015-10-28</th>\n",
              "      <td>684</td>\n",
              "      <td>32872</td>\n",
              "      <td>270480</td>\n",
              "      <td>246846</td>\n",
              "      <td>219046</td>\n",
              "      <td>91439</td>\n",
              "    </tr>\n",
              "    <tr>\n",
              "      <th>2015-11-28</th>\n",
              "      <td>754</td>\n",
              "      <td>33062</td>\n",
              "      <td>272076</td>\n",
              "      <td>248691</td>\n",
              "      <td>237218</td>\n",
              "      <td>95973</td>\n",
              "    </tr>\n",
              "    <tr>\n",
              "      <th>2015-12-28</th>\n",
              "      <td>721</td>\n",
              "      <td>33414</td>\n",
              "      <td>273187</td>\n",
              "      <td>250673</td>\n",
              "      <td>245822</td>\n",
              "      <td>98042</td>\n",
              "    </tr>\n",
              "    <tr>\n",
              "      <th>2016-01-28</th>\n",
              "      <td>691</td>\n",
              "      <td>33801</td>\n",
              "      <td>273327</td>\n",
              "      <td>251613</td>\n",
              "      <td>248393</td>\n",
              "      <td>98615</td>\n",
              "    </tr>\n",
              "    <tr>\n",
              "      <th>2016-02-28</th>\n",
              "      <td>623</td>\n",
              "      <td>33998</td>\n",
              "      <td>275343</td>\n",
              "      <td>254968</td>\n",
              "      <td>248484</td>\n",
              "      <td>98433</td>\n",
              "    </tr>\n",
              "    <tr>\n",
              "      <th>2016-03-28</th>\n",
              "      <td>524</td>\n",
              "      <td>34353</td>\n",
              "      <td>277540</td>\n",
              "      <td>257763</td>\n",
              "      <td>248471</td>\n",
              "      <td>98338</td>\n",
              "    </tr>\n",
              "    <tr>\n",
              "      <th>2016-04-28</th>\n",
              "      <td>447</td>\n",
              "      <td>34452</td>\n",
              "      <td>279275</td>\n",
              "      <td>260053</td>\n",
              "      <td>248665</td>\n",
              "      <td>98063</td>\n",
              "    </tr>\n",
              "    <tr>\n",
              "      <th>2016-05-28</th>\n",
              "      <td>380</td>\n",
              "      <td>34982</td>\n",
              "      <td>280979</td>\n",
              "      <td>261445</td>\n",
              "      <td>248885</td>\n",
              "      <td>97481</td>\n",
              "    </tr>\n",
              "  </tbody>\n",
              "</table>\n",
              "</div>"
            ],
            "text/plain": [
              "Segmentation  01 - TOP         ... 03 - UNIVERSITARIO       \n",
              "ActivityIndex      0.0    1.0  ...                0.0    1.0\n",
              "date                           ...                          \n",
              "2015-01-28         304  30199  ...             152263  74749\n",
              "2015-02-28         379  30467  ...             152112  75161\n",
              "2015-03-28         440  30783  ...             151914  75550\n",
              "2015-04-28         475  31117  ...             151696  75879\n",
              "2015-05-28         475  31479  ...             151467  76241\n",
              "2015-06-28         395  31759  ...             151230  76553\n",
              "2015-07-28         476  31763  ...             195515  76834\n",
              "2015-08-28         454  32104  ...             202293  81322\n",
              "2015-09-28         539  32413  ...             206940  86031\n",
              "2015-10-28         684  32872  ...             219046  91439\n",
              "2015-11-28         754  33062  ...             237218  95973\n",
              "2015-12-28         721  33414  ...             245822  98042\n",
              "2016-01-28         691  33801  ...             248393  98615\n",
              "2016-02-28         623  33998  ...             248484  98433\n",
              "2016-03-28         524  34353  ...             248471  98338\n",
              "2016-04-28         447  34452  ...             248665  98063\n",
              "2016-05-28         380  34982  ...             248885  97481\n",
              "\n",
              "[17 rows x 6 columns]"
            ]
          },
          "metadata": {
            "tags": []
          },
          "execution_count": 28
        }
      ]
    },
    {
      "cell_type": "code",
      "metadata": {
        "id": "Ok29D1kmPLil",
        "colab_type": "code",
        "outputId": "43bcb44b-63bd-44e9-e050-318749734901",
        "colab": {
          "base_uri": "https://localhost:8080/",
          "height": 765
        }
      },
      "source": [
        "df['01 - TOP'].plot(kind='barh', stacked=True, fontsize=14, figsize=[16,12], colormap='rainbow')\n",
        "plt.title('Distribution of Active vs Inactive Customers in VIP Group', fontsize=20, color='black') \n",
        "plt.xlabel('Total number of Customer', fontsize=17, color='black') \n",
        "plt.ylabel('Date', fontsize=17, color='black') \n",
        "plt.legend(prop={'size':15}, loc=1)"
      ],
      "execution_count": 0,
      "outputs": [
        {
          "output_type": "execute_result",
          "data": {
            "text/plain": [
              "<matplotlib.legend.Legend at 0x7fc5dce5ee10>"
            ]
          },
          "metadata": {
            "tags": []
          },
          "execution_count": 29
        },
        {
          "output_type": "display_data",
          "data": {
            "image/png": "[encoded data removed]",
            "text/plain": [
              "<Figure size 1152x864 with 1 Axes>"
            ]
          },
          "metadata": {
            "tags": []
          }
        }
      ]
    },
    {
      "cell_type": "code",
      "metadata": {
        "id": "6nOYGyywPUQA",
        "colab_type": "code",
        "outputId": "878e385f-850f-4220-d8eb-45c3e8a2bc9d",
        "colab": {
          "base_uri": "https://localhost:8080/",
          "height": 765
        }
      },
      "source": [
        "df['02 - PARTICULARES'].plot(kind='barh', stacked=True, fontsize=14, figsize=[16,12], colormap='RdYlGn')\n",
        "plt.title('Distribution of Active vs Inactive Customers in Individuals Group', fontsize=20, color='black') \n",
        "plt.xlabel('Total number of Customer', fontsize=17, color='black') \n",
        "plt.ylabel('Date', fontsize=17, color='black') \n",
        "plt.legend(prop={'size':15}, loc=1)"
      ],
      "execution_count": 0,
      "outputs": [
        {
          "output_type": "execute_result",
          "data": {
            "text/plain": [
              "<matplotlib.legend.Legend at 0x7fc5e822db38>"
            ]
          },
          "metadata": {
            "tags": []
          },
          "execution_count": 30
        },
        {
          "output_type": "display_data",
          "data": {
            "image/png": "[encoded data removed]",
            "text/plain": [
              "<Figure size 1152x864 with 1 Axes>"
            ]
          },
          "metadata": {
            "tags": []
          }
        }
      ]
    },
    {
      "cell_type": "code",
      "metadata": {
        "id": "TxWokn5NPbY4",
        "colab_type": "code",
        "outputId": "5ea226df-7561-4e02-92ff-30bc767bab25",
        "colab": {
          "base_uri": "https://localhost:8080/",
          "height": 765
        }
      },
      "source": [
        "df['03 - UNIVERSITARIO'].plot(kind='barh', stacked=True, fontsize=14, figsize=[16,12], colormap='coolwarm')\n",
        "plt.title('Distribution of Active vs Inactive Customers in College Graduated Group', fontsize=20, color='black') \n",
        "plt.xlabel('Total number of Customer', fontsize=17, color='black') \n",
        "plt.ylabel('Date', fontsize=17, color='black') \n",
        "plt.legend(prop={'size':15}, loc=1)"
      ],
      "execution_count": 0,
      "outputs": [
        {
          "output_type": "execute_result",
          "data": {
            "text/plain": [
              "<matplotlib.legend.Legend at 0x7fc5dc30ddd8>"
            ]
          },
          "metadata": {
            "tags": []
          },
          "execution_count": 31
        },
        {
          "output_type": "display_data",
          "data": {
            "image/png": "[encoded data removed]",
            "text/plain": [
              "<Figure size 1152x864 with 1 Axes>"
            ]
          },
          "metadata": {
            "tags": []
          }
        }
      ]
    },
    {
      "cell_type": "markdown",
      "metadata": {
        "id": "_e1DjFepMp9C",
        "colab_type": "text"
      },
      "source": [
        "### Active vs Inactive Customers by Gross Income\n"
      ]
    },
    {
      "cell_type": "code",
      "metadata": {
        "id": "lcw4yfEgM8oj",
        "colab_type": "code",
        "outputId": "0275b975-952d-42c8-fb06-91dee50dd80d",
        "colab": {
          "base_uri": "https://localhost:8080/",
          "height": 35
        }
      },
      "source": [
        "EDA.GrossIncome"
      ],
      "execution_count": 0,
      "outputs": [
        {
          "output_type": "execute_result",
          "data": {
            "text/plain": [
              "1202.73"
            ]
          },
          "metadata": {
            "tags": []
          },
          "execution_count": 34
        }
      ]
    },
    {
      "cell_type": "code",
      "metadata": {
        "id": "EKU9gTPiNYrO",
        "colab_type": "code",
        "colab": {}
      },
      "source": [
        "EDA['Income'] = "
      ],
      "execution_count": 0,
      "outputs": []
    },
    {
      "cell_type": "code",
      "metadata": {
        "colab_type": "code",
        "id": "zKrUeDRiNAJ7",
        "colab": {}
      },
      "source": [
        "sub2 = EDA[['date', 'CustomerId', 'ActivityIndex', 'GrossIncome']]\n",
        "df = sub2.groupby(['date', 'Segmentation', 'ActivityIndex']).count()\n",
        "df = df.reset_index(level=['Segmentation','ActivityIndex','date'])\n",
        "df = df.set_index(['Segmentation','ActivityIndex','date'])['CustomerId'].unstack()\n",
        "\n",
        "df = df.T"
      ],
      "execution_count": 0,
      "outputs": []
    }
  ]
}