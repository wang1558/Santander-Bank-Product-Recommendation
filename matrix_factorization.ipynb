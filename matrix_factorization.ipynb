{
  "nbformat": 4,
  "nbformat_minor": 0,
  "metadata": {
    "colab": {
      "name": "5291 Project matrix factorization.ipynb",
      "provenance": [],
      "machine_shape": "hm"
    },
    "kernelspec": {
      "name": "python3",
      "display_name": "Python 3"
    },
    "accelerator": "GPU"
  },
  "cells": [
    {
      "cell_type": "markdown",
      "metadata": {
        "id": "J9kFEFT2Mpea",
        "colab_type": "text"
      },
      "source": [
        "# 5291 Project"
      ]
    },
    {
      "cell_type": "markdown",
      "metadata": {
        "id": "og8c_CZSyOuk",
        "colab_type": "text"
      },
      "source": [
        "## Import data"
      ]
    },
    {
      "cell_type": "code",
      "metadata": {
        "id": "lPURvex9MmvQ",
        "colab_type": "code",
        "outputId": "62ba4450-f1b3-4c0f-f290-3991907f850e",
        "colab": {
          "base_uri": "https://localhost:8080/",
          "height": 124
        }
      },
      "source": [
        "#authorization from google drive\n",
        "from google.colab import drive\n",
        "drive.mount('/content/drive')"
      ],
      "execution_count": 0,
      "outputs": [
        {
          "output_type": "stream",
          "text": [
            "Go to this URL in a browser: https://accounts.google.com/o/oauth2/auth?client_id=947318989803-6bn6qk8qdgf4n4g3pfee6491hc0brc4i.apps.googleusercontent.com&redirect_uri=urn%3aietf%3awg%3aoauth%3a2.0%3aoob&response_type=code&scope=email%20https%3a%2f%2fwww.googleapis.com%2fauth%2fdocs.test%20https%3a%2f%2fwww.googleapis.com%2fauth%2fdrive%20https%3a%2f%2fwww.googleapis.com%2fauth%2fdrive.photos.readonly%20https%3a%2f%2fwww.googleapis.com%2fauth%2fpeopleapi.readonly\n",
            "\n",
            "Enter your authorization code:\n",
            "··········\n",
            "Mounted at /content/drive\n"
          ],
          "name": "stdout"
        }
      ]
    },
    {
      "cell_type": "code",
      "metadata": {
        "id": "OtIjHBtPMnF2",
        "colab_type": "code",
        "outputId": "8c3d9362-33cf-4733-c849-f2cd2a55fb60",
        "colab": {
          "base_uri": "https://localhost:8080/",
          "height": 243
        }
      },
      "source": [
        "!ls \"/content/drive/My Drive/ADA-Final-Project/\""
      ],
      "execution_count": 0,
      "outputs": [
        {
          "output_type": "stream",
          "text": [
            "'5291 Project matrix factorization.ipynb'   Model.gdoc\n",
            "'91Project - Group 6.pdf'\t\t    Presentation.gdoc\n",
            " ADA_ContentBased.ipynb\t\t\t    Santander_Product_Recommender_EDA\n",
            " ADA_DataCleaning.ipynb\t\t\t    Step0_DataClearning.ipynb\n",
            "'Copy of XGBoost.ipynb'\t\t\t    test_1605.csv\n",
            " data_clean_v2.csv\t\t\t    train_clean.csv\n",
            " data_clean_v3.csv\t\t\t    train.csv\n",
            " Data.gdoc\t\t\t\t    Untitled0.ipynb\n",
            " EDA.gdoc\t\t\t\t    XGBoost.ipynb\n",
            " EDA_graph\t\t\t\t    x_test_1605.csv\n",
            "'Final Presentation.gdoc'\t\t    x_train.csv\n",
            "'Final Report.gdoc'\t\t\t    彤狗连写好的code也跑不出来？.ipynb\n",
            " Group6.ipynb\n"
          ],
          "name": "stdout"
        }
      ]
    },
    {
      "cell_type": "markdown",
      "metadata": {
        "id": "qUeUoOUCuK-F",
        "colab_type": "text"
      },
      "source": [
        "### Install packages"
      ]
    },
    {
      "cell_type": "code",
      "metadata": {
        "id": "0PwkNBK4GbNE",
        "colab_type": "code",
        "outputId": "f80fd1ea-2abc-4c48-9e96-91bd389684ec",
        "colab": {
          "base_uri": "https://localhost:8080/",
          "height": 315
        }
      },
      "source": [
        "!pip install --upgrade surprise"
      ],
      "execution_count": 0,
      "outputs": [
        {
          "output_type": "stream",
          "text": [
            "Collecting surprise\n",
            "  Downloading https://files.pythonhosted.org/packages/61/de/e5cba8682201fcf9c3719a6fdda95693468ed061945493dea2dd37c5618b/surprise-0.1-py2.py3-none-any.whl\n",
            "Collecting scikit-surprise\n",
            "\u001b[?25l  Downloading https://files.pythonhosted.org/packages/f5/da/b5700d96495fb4f092be497f02492768a3d96a3f4fa2ae7dea46d4081cfa/scikit-surprise-1.1.0.tar.gz (6.4MB)\n",
            "\u001b[K     |████████████████████████████████| 6.5MB 2.8MB/s \n",
            "\u001b[?25hRequirement already satisfied, skipping upgrade: joblib>=0.11 in /usr/local/lib/python3.6/dist-packages (from scikit-surprise->surprise) (0.14.0)\n",
            "Requirement already satisfied, skipping upgrade: numpy>=1.11.2 in /usr/local/lib/python3.6/dist-packages (from scikit-surprise->surprise) (1.17.4)\n",
            "Requirement already satisfied, skipping upgrade: scipy>=1.0.0 in /usr/local/lib/python3.6/dist-packages (from scikit-surprise->surprise) (1.3.3)\n",
            "Requirement already satisfied, skipping upgrade: six>=1.10.0 in /usr/local/lib/python3.6/dist-packages (from scikit-surprise->surprise) (1.12.0)\n",
            "Building wheels for collected packages: scikit-surprise\n",
            "  Building wheel for scikit-surprise (setup.py) ... \u001b[?25l\u001b[?25hdone\n",
            "  Created wheel for scikit-surprise: filename=scikit_surprise-1.1.0-cp36-cp36m-linux_x86_64.whl size=1678236 sha256=d356dead5b864ce0ae1db1c6f877ac79b66f5829efbb591d7af471b5b6211a0f\n",
            "  Stored in directory: /root/.cache/pip/wheels/cc/fa/8c/16c93fccce688ae1bde7d979ff102f7bee980d9cfeb8641bcf\n",
            "Successfully built scikit-surprise\n",
            "Installing collected packages: scikit-surprise, surprise\n",
            "Successfully installed scikit-surprise-1.1.0 surprise-0.1\n"
          ],
          "name": "stdout"
        }
      ]
    },
    {
      "cell_type": "code",
      "metadata": {
        "id": "ZYWGFrCxMnPc",
        "colab_type": "code",
        "colab": {}
      },
      "source": [
        "#load libraries\n",
        "import pandas as pd\n",
        "import matplotlib.pyplot as plt\n",
        "import numpy as np\n",
        "import time\n",
        "from surprise import SVDpp\n",
        "from surprise import SVD\n",
        "from surprise import Reader, Dataset\n",
        "from surprise.model_selection.search import GridSearchCV \n",
        "from surprise import KNNBasic\n"
      ],
      "execution_count": 0,
      "outputs": []
    },
    {
      "cell_type": "markdown",
      "metadata": {
        "id": "GTnPO0C1uR_5",
        "colab_type": "text"
      },
      "source": [
        "### Read dataset\n",
        "Clean data and use products columns for training model"
      ]
    },
    {
      "cell_type": "code",
      "metadata": {
        "id": "DIh5Io92Ga4h",
        "colab_type": "code",
        "colab": {}
      },
      "source": [
        "#train = pd.read_csv(\"/content/drive/My Drive/ADA Project/train_ver2.csv\")\n",
        "#test = pd.read_csv(\"/content/drive/My Drive/ADA Project/test_ver2.csv\")\n",
        "df = pd.read_csv(\"/content/drive/My Drive/ADA Project/data_clean_v3.csv\")"
      ],
      "execution_count": 0,
      "outputs": []
    },
    {
      "cell_type": "code",
      "metadata": {
        "id": "5bIk3TNlGwgV",
        "colab_type": "code",
        "outputId": "2f0f8270-e7a9-4a40-b178-b5c05d59a258",
        "colab": {
          "base_uri": "https://localhost:8080/",
          "height": 626
        }
      },
      "source": [
        "df"
      ],
      "execution_count": 0,
      "outputs": [
        {
          "output_type": "execute_result",
          "data": {
            "text/html": [
              "<div>\n",
              "<style scoped>\n",
              "    .dataframe tbody tr th:only-of-type {\n",
              "        vertical-align: middle;\n",
              "    }\n",
              "\n",
              "    .dataframe tbody tr th {\n",
              "        vertical-align: top;\n",
              "    }\n",
              "\n",
              "    .dataframe thead th {\n",
              "        text-align: right;\n",
              "    }\n",
              "</style>\n",
              "<table border=\"1\" class=\"dataframe\">\n",
              "  <thead>\n",
              "    <tr style=\"text-align: right;\">\n",
              "      <th></th>\n",
              "      <th>Unnamed: 0</th>\n",
              "      <th>Unnamed: 0.1</th>\n",
              "      <th>fecha_dato</th>\n",
              "      <th>ncodpers</th>\n",
              "      <th>ind_empleado</th>\n",
              "      <th>pais_residencia</th>\n",
              "      <th>sexo</th>\n",
              "      <th>age</th>\n",
              "      <th>ind_nuevo</th>\n",
              "      <th>antiguedad</th>\n",
              "      <th>indrel</th>\n",
              "      <th>indrel_1mes</th>\n",
              "      <th>tiprel_1mes</th>\n",
              "      <th>indresi</th>\n",
              "      <th>indext</th>\n",
              "      <th>canal_entrada</th>\n",
              "      <th>indfall</th>\n",
              "      <th>nomprov</th>\n",
              "      <th>ind_actividad_cliente</th>\n",
              "      <th>renta</th>\n",
              "      <th>segmento</th>\n",
              "      <th>ind_cco_fin_ult1</th>\n",
              "      <th>ind_cder_fin_ult1</th>\n",
              "      <th>ind_cno_fin_ult1</th>\n",
              "      <th>ind_ctju_fin_ult1</th>\n",
              "      <th>ind_ctma_fin_ult1</th>\n",
              "      <th>ind_ctop_fin_ult1</th>\n",
              "      <th>ind_ctpp_fin_ult1</th>\n",
              "      <th>ind_dela_fin_ult1</th>\n",
              "      <th>ind_ecue_fin_ult1</th>\n",
              "      <th>ind_fond_fin_ult1</th>\n",
              "      <th>ind_hip_fin_ult1</th>\n",
              "      <th>ind_plan_fin_ult1</th>\n",
              "      <th>ind_pres_fin_ult1</th>\n",
              "      <th>ind_reca_fin_ult1</th>\n",
              "      <th>ind_tjcr_fin_ult1</th>\n",
              "      <th>ind_valo_fin_ult1</th>\n",
              "      <th>ind_viv_fin_ult1</th>\n",
              "      <th>ind_nomina_ult1</th>\n",
              "      <th>ind_nom_pens_ult1</th>\n",
              "      <th>ind_recibo_ult1</th>\n",
              "    </tr>\n",
              "  </thead>\n",
              "  <tbody>\n",
              "    <tr>\n",
              "      <th>0</th>\n",
              "      <td>0</td>\n",
              "      <td>0</td>\n",
              "      <td>2015-01-28</td>\n",
              "      <td>1375586</td>\n",
              "      <td>N</td>\n",
              "      <td>ES</td>\n",
              "      <td>H</td>\n",
              "      <td>35</td>\n",
              "      <td>0.0</td>\n",
              "      <td>6</td>\n",
              "      <td>1.0</td>\n",
              "      <td>1.0</td>\n",
              "      <td>A</td>\n",
              "      <td>S</td>\n",
              "      <td>N</td>\n",
              "      <td>KHL</td>\n",
              "      <td>N</td>\n",
              "      <td>MALAGA</td>\n",
              "      <td>1.0</td>\n",
              "      <td>87218.10</td>\n",
              "      <td>02 - PARTICULARES</td>\n",
              "      <td>1</td>\n",
              "      <td>0</td>\n",
              "      <td>0</td>\n",
              "      <td>0</td>\n",
              "      <td>0</td>\n",
              "      <td>0</td>\n",
              "      <td>0</td>\n",
              "      <td>0</td>\n",
              "      <td>0</td>\n",
              "      <td>0</td>\n",
              "      <td>0</td>\n",
              "      <td>0</td>\n",
              "      <td>0</td>\n",
              "      <td>0</td>\n",
              "      <td>0</td>\n",
              "      <td>0</td>\n",
              "      <td>0</td>\n",
              "      <td>0.0</td>\n",
              "      <td>0.0</td>\n",
              "      <td>0</td>\n",
              "    </tr>\n",
              "    <tr>\n",
              "      <th>1</th>\n",
              "      <td>1</td>\n",
              "      <td>1</td>\n",
              "      <td>2015-01-28</td>\n",
              "      <td>1050611</td>\n",
              "      <td>N</td>\n",
              "      <td>ES</td>\n",
              "      <td>V</td>\n",
              "      <td>23</td>\n",
              "      <td>0.0</td>\n",
              "      <td>35</td>\n",
              "      <td>1.0</td>\n",
              "      <td>1.0</td>\n",
              "      <td>I</td>\n",
              "      <td>S</td>\n",
              "      <td>S</td>\n",
              "      <td>KHE</td>\n",
              "      <td>N</td>\n",
              "      <td>CIUDAD REAL</td>\n",
              "      <td>0.0</td>\n",
              "      <td>35548.74</td>\n",
              "      <td>03 - UNIVERSITARIO</td>\n",
              "      <td>1</td>\n",
              "      <td>0</td>\n",
              "      <td>0</td>\n",
              "      <td>0</td>\n",
              "      <td>0</td>\n",
              "      <td>0</td>\n",
              "      <td>0</td>\n",
              "      <td>0</td>\n",
              "      <td>0</td>\n",
              "      <td>0</td>\n",
              "      <td>0</td>\n",
              "      <td>0</td>\n",
              "      <td>0</td>\n",
              "      <td>0</td>\n",
              "      <td>0</td>\n",
              "      <td>0</td>\n",
              "      <td>0</td>\n",
              "      <td>0.0</td>\n",
              "      <td>0.0</td>\n",
              "      <td>0</td>\n",
              "    </tr>\n",
              "    <tr>\n",
              "      <th>2</th>\n",
              "      <td>2</td>\n",
              "      <td>2</td>\n",
              "      <td>2015-01-28</td>\n",
              "      <td>1050612</td>\n",
              "      <td>N</td>\n",
              "      <td>ES</td>\n",
              "      <td>V</td>\n",
              "      <td>23</td>\n",
              "      <td>0.0</td>\n",
              "      <td>35</td>\n",
              "      <td>1.0</td>\n",
              "      <td>1.0</td>\n",
              "      <td>I</td>\n",
              "      <td>S</td>\n",
              "      <td>N</td>\n",
              "      <td>KHE</td>\n",
              "      <td>N</td>\n",
              "      <td>CIUDAD REAL</td>\n",
              "      <td>0.0</td>\n",
              "      <td>122179.11</td>\n",
              "      <td>03 - UNIVERSITARIO</td>\n",
              "      <td>1</td>\n",
              "      <td>0</td>\n",
              "      <td>0</td>\n",
              "      <td>0</td>\n",
              "      <td>0</td>\n",
              "      <td>0</td>\n",
              "      <td>0</td>\n",
              "      <td>0</td>\n",
              "      <td>0</td>\n",
              "      <td>0</td>\n",
              "      <td>0</td>\n",
              "      <td>0</td>\n",
              "      <td>0</td>\n",
              "      <td>0</td>\n",
              "      <td>0</td>\n",
              "      <td>0</td>\n",
              "      <td>0</td>\n",
              "      <td>0.0</td>\n",
              "      <td>0.0</td>\n",
              "      <td>0</td>\n",
              "    </tr>\n",
              "    <tr>\n",
              "      <th>3</th>\n",
              "      <td>3</td>\n",
              "      <td>5</td>\n",
              "      <td>2015-01-28</td>\n",
              "      <td>1050615</td>\n",
              "      <td>N</td>\n",
              "      <td>ES</td>\n",
              "      <td>H</td>\n",
              "      <td>23</td>\n",
              "      <td>0.0</td>\n",
              "      <td>35</td>\n",
              "      <td>1.0</td>\n",
              "      <td>1.0</td>\n",
              "      <td>I</td>\n",
              "      <td>S</td>\n",
              "      <td>N</td>\n",
              "      <td>KHE</td>\n",
              "      <td>N</td>\n",
              "      <td>TOLEDO</td>\n",
              "      <td>0.0</td>\n",
              "      <td>22220.04</td>\n",
              "      <td>03 - UNIVERSITARIO</td>\n",
              "      <td>1</td>\n",
              "      <td>0</td>\n",
              "      <td>0</td>\n",
              "      <td>0</td>\n",
              "      <td>0</td>\n",
              "      <td>0</td>\n",
              "      <td>0</td>\n",
              "      <td>0</td>\n",
              "      <td>0</td>\n",
              "      <td>0</td>\n",
              "      <td>0</td>\n",
              "      <td>0</td>\n",
              "      <td>0</td>\n",
              "      <td>0</td>\n",
              "      <td>0</td>\n",
              "      <td>0</td>\n",
              "      <td>0</td>\n",
              "      <td>0.0</td>\n",
              "      <td>0.0</td>\n",
              "      <td>0</td>\n",
              "    </tr>\n",
              "    <tr>\n",
              "      <th>4</th>\n",
              "      <td>4</td>\n",
              "      <td>6</td>\n",
              "      <td>2015-01-28</td>\n",
              "      <td>1050616</td>\n",
              "      <td>N</td>\n",
              "      <td>ES</td>\n",
              "      <td>H</td>\n",
              "      <td>23</td>\n",
              "      <td>0.0</td>\n",
              "      <td>35</td>\n",
              "      <td>1.0</td>\n",
              "      <td>1.0</td>\n",
              "      <td>I</td>\n",
              "      <td>S</td>\n",
              "      <td>N</td>\n",
              "      <td>KHE</td>\n",
              "      <td>N</td>\n",
              "      <td>LEON</td>\n",
              "      <td>0.0</td>\n",
              "      <td>295590.36</td>\n",
              "      <td>03 - UNIVERSITARIO</td>\n",
              "      <td>1</td>\n",
              "      <td>0</td>\n",
              "      <td>0</td>\n",
              "      <td>0</td>\n",
              "      <td>0</td>\n",
              "      <td>0</td>\n",
              "      <td>0</td>\n",
              "      <td>0</td>\n",
              "      <td>0</td>\n",
              "      <td>0</td>\n",
              "      <td>0</td>\n",
              "      <td>0</td>\n",
              "      <td>0</td>\n",
              "      <td>0</td>\n",
              "      <td>0</td>\n",
              "      <td>0</td>\n",
              "      <td>0</td>\n",
              "      <td>0.0</td>\n",
              "      <td>0.0</td>\n",
              "      <td>0</td>\n",
              "    </tr>\n",
              "    <tr>\n",
              "      <th>...</th>\n",
              "      <td>...</td>\n",
              "      <td>...</td>\n",
              "      <td>...</td>\n",
              "      <td>...</td>\n",
              "      <td>...</td>\n",
              "      <td>...</td>\n",
              "      <td>...</td>\n",
              "      <td>...</td>\n",
              "      <td>...</td>\n",
              "      <td>...</td>\n",
              "      <td>...</td>\n",
              "      <td>...</td>\n",
              "      <td>...</td>\n",
              "      <td>...</td>\n",
              "      <td>...</td>\n",
              "      <td>...</td>\n",
              "      <td>...</td>\n",
              "      <td>...</td>\n",
              "      <td>...</td>\n",
              "      <td>...</td>\n",
              "      <td>...</td>\n",
              "      <td>...</td>\n",
              "      <td>...</td>\n",
              "      <td>...</td>\n",
              "      <td>...</td>\n",
              "      <td>...</td>\n",
              "      <td>...</td>\n",
              "      <td>...</td>\n",
              "      <td>...</td>\n",
              "      <td>...</td>\n",
              "      <td>...</td>\n",
              "      <td>...</td>\n",
              "      <td>...</td>\n",
              "      <td>...</td>\n",
              "      <td>...</td>\n",
              "      <td>...</td>\n",
              "      <td>...</td>\n",
              "      <td>...</td>\n",
              "      <td>...</td>\n",
              "      <td>...</td>\n",
              "      <td>...</td>\n",
              "    </tr>\n",
              "    <tr>\n",
              "      <th>8574268</th>\n",
              "      <td>8574268</td>\n",
              "      <td>13621261</td>\n",
              "      <td>2016-05-28</td>\n",
              "      <td>1166767</td>\n",
              "      <td>N</td>\n",
              "      <td>ES</td>\n",
              "      <td>V</td>\n",
              "      <td>25</td>\n",
              "      <td>0.0</td>\n",
              "      <td>33</td>\n",
              "      <td>1.0</td>\n",
              "      <td>1.0</td>\n",
              "      <td>I</td>\n",
              "      <td>S</td>\n",
              "      <td>S</td>\n",
              "      <td>KHE</td>\n",
              "      <td>N</td>\n",
              "      <td>ZARAGOZA</td>\n",
              "      <td>0.0</td>\n",
              "      <td>73134.81</td>\n",
              "      <td>03 - UNIVERSITARIO</td>\n",
              "      <td>1</td>\n",
              "      <td>0</td>\n",
              "      <td>0</td>\n",
              "      <td>0</td>\n",
              "      <td>0</td>\n",
              "      <td>0</td>\n",
              "      <td>0</td>\n",
              "      <td>0</td>\n",
              "      <td>0</td>\n",
              "      <td>0</td>\n",
              "      <td>0</td>\n",
              "      <td>0</td>\n",
              "      <td>0</td>\n",
              "      <td>0</td>\n",
              "      <td>0</td>\n",
              "      <td>0</td>\n",
              "      <td>0</td>\n",
              "      <td>0.0</td>\n",
              "      <td>0.0</td>\n",
              "      <td>0</td>\n",
              "    </tr>\n",
              "    <tr>\n",
              "      <th>8574269</th>\n",
              "      <td>8574269</td>\n",
              "      <td>13621262</td>\n",
              "      <td>2016-05-28</td>\n",
              "      <td>1166766</td>\n",
              "      <td>N</td>\n",
              "      <td>ES</td>\n",
              "      <td>V</td>\n",
              "      <td>25</td>\n",
              "      <td>0.0</td>\n",
              "      <td>33</td>\n",
              "      <td>1.0</td>\n",
              "      <td>1.0</td>\n",
              "      <td>I</td>\n",
              "      <td>S</td>\n",
              "      <td>N</td>\n",
              "      <td>KHE</td>\n",
              "      <td>N</td>\n",
              "      <td>ZARAGOZA</td>\n",
              "      <td>0.0</td>\n",
              "      <td>50945.25</td>\n",
              "      <td>03 - UNIVERSITARIO</td>\n",
              "      <td>1</td>\n",
              "      <td>0</td>\n",
              "      <td>0</td>\n",
              "      <td>0</td>\n",
              "      <td>0</td>\n",
              "      <td>0</td>\n",
              "      <td>0</td>\n",
              "      <td>0</td>\n",
              "      <td>0</td>\n",
              "      <td>0</td>\n",
              "      <td>0</td>\n",
              "      <td>0</td>\n",
              "      <td>0</td>\n",
              "      <td>0</td>\n",
              "      <td>0</td>\n",
              "      <td>0</td>\n",
              "      <td>0</td>\n",
              "      <td>0.0</td>\n",
              "      <td>0.0</td>\n",
              "      <td>0</td>\n",
              "    </tr>\n",
              "    <tr>\n",
              "      <th>8574270</th>\n",
              "      <td>8574270</td>\n",
              "      <td>13621263</td>\n",
              "      <td>2016-05-28</td>\n",
              "      <td>1166765</td>\n",
              "      <td>N</td>\n",
              "      <td>ES</td>\n",
              "      <td>V</td>\n",
              "      <td>22</td>\n",
              "      <td>0.0</td>\n",
              "      <td>33</td>\n",
              "      <td>1.0</td>\n",
              "      <td>1.0</td>\n",
              "      <td>I</td>\n",
              "      <td>S</td>\n",
              "      <td>N</td>\n",
              "      <td>KHE</td>\n",
              "      <td>N</td>\n",
              "      <td>ZARAGOZA</td>\n",
              "      <td>0.0</td>\n",
              "      <td>43912.17</td>\n",
              "      <td>03 - UNIVERSITARIO</td>\n",
              "      <td>1</td>\n",
              "      <td>0</td>\n",
              "      <td>0</td>\n",
              "      <td>0</td>\n",
              "      <td>0</td>\n",
              "      <td>0</td>\n",
              "      <td>0</td>\n",
              "      <td>0</td>\n",
              "      <td>0</td>\n",
              "      <td>0</td>\n",
              "      <td>0</td>\n",
              "      <td>0</td>\n",
              "      <td>0</td>\n",
              "      <td>0</td>\n",
              "      <td>0</td>\n",
              "      <td>0</td>\n",
              "      <td>0</td>\n",
              "      <td>0.0</td>\n",
              "      <td>0.0</td>\n",
              "      <td>0</td>\n",
              "    </tr>\n",
              "    <tr>\n",
              "      <th>8574271</th>\n",
              "      <td>8574271</td>\n",
              "      <td>13621264</td>\n",
              "      <td>2016-05-28</td>\n",
              "      <td>1166764</td>\n",
              "      <td>N</td>\n",
              "      <td>ES</td>\n",
              "      <td>V</td>\n",
              "      <td>23</td>\n",
              "      <td>0.0</td>\n",
              "      <td>33</td>\n",
              "      <td>1.0</td>\n",
              "      <td>1.0</td>\n",
              "      <td>I</td>\n",
              "      <td>S</td>\n",
              "      <td>N</td>\n",
              "      <td>KHE</td>\n",
              "      <td>N</td>\n",
              "      <td>RIOJA, LA</td>\n",
              "      <td>0.0</td>\n",
              "      <td>23334.99</td>\n",
              "      <td>03 - UNIVERSITARIO</td>\n",
              "      <td>1</td>\n",
              "      <td>0</td>\n",
              "      <td>0</td>\n",
              "      <td>0</td>\n",
              "      <td>0</td>\n",
              "      <td>0</td>\n",
              "      <td>0</td>\n",
              "      <td>0</td>\n",
              "      <td>0</td>\n",
              "      <td>0</td>\n",
              "      <td>0</td>\n",
              "      <td>0</td>\n",
              "      <td>0</td>\n",
              "      <td>0</td>\n",
              "      <td>0</td>\n",
              "      <td>0</td>\n",
              "      <td>0</td>\n",
              "      <td>0.0</td>\n",
              "      <td>0.0</td>\n",
              "      <td>0</td>\n",
              "    </tr>\n",
              "    <tr>\n",
              "      <th>8574272</th>\n",
              "      <td>8574272</td>\n",
              "      <td>13621266</td>\n",
              "      <td>2016-05-28</td>\n",
              "      <td>1166789</td>\n",
              "      <td>N</td>\n",
              "      <td>ES</td>\n",
              "      <td>H</td>\n",
              "      <td>22</td>\n",
              "      <td>0.0</td>\n",
              "      <td>33</td>\n",
              "      <td>1.0</td>\n",
              "      <td>1.0</td>\n",
              "      <td>I</td>\n",
              "      <td>S</td>\n",
              "      <td>N</td>\n",
              "      <td>KHE</td>\n",
              "      <td>N</td>\n",
              "      <td>ZARAGOZA</td>\n",
              "      <td>0.0</td>\n",
              "      <td>199592.82</td>\n",
              "      <td>03 - UNIVERSITARIO</td>\n",
              "      <td>1</td>\n",
              "      <td>0</td>\n",
              "      <td>0</td>\n",
              "      <td>0</td>\n",
              "      <td>0</td>\n",
              "      <td>0</td>\n",
              "      <td>0</td>\n",
              "      <td>0</td>\n",
              "      <td>0</td>\n",
              "      <td>0</td>\n",
              "      <td>0</td>\n",
              "      <td>0</td>\n",
              "      <td>0</td>\n",
              "      <td>0</td>\n",
              "      <td>0</td>\n",
              "      <td>0</td>\n",
              "      <td>0</td>\n",
              "      <td>0.0</td>\n",
              "      <td>0.0</td>\n",
              "      <td>0</td>\n",
              "    </tr>\n",
              "  </tbody>\n",
              "</table>\n",
              "<p>8574273 rows × 41 columns</p>\n",
              "</div>"
            ],
            "text/plain": [
              "         Unnamed: 0  Unnamed: 0.1  ... ind_nom_pens_ult1  ind_recibo_ult1\n",
              "0                 0             0  ...               0.0                0\n",
              "1                 1             1  ...               0.0                0\n",
              "2                 2             2  ...               0.0                0\n",
              "3                 3             5  ...               0.0                0\n",
              "4                 4             6  ...               0.0                0\n",
              "...             ...           ...  ...               ...              ...\n",
              "8574268     8574268      13621261  ...               0.0                0\n",
              "8574269     8574269      13621262  ...               0.0                0\n",
              "8574270     8574270      13621263  ...               0.0                0\n",
              "8574271     8574271      13621264  ...               0.0                0\n",
              "8574272     8574272      13621266  ...               0.0                0\n",
              "\n",
              "[8574273 rows x 41 columns]"
            ]
          },
          "metadata": {
            "tags": []
          },
          "execution_count": 9
        }
      ]
    },
    {
      "cell_type": "code",
      "metadata": {
        "id": "0e27ToA7n2Qq",
        "colab_type": "code",
        "outputId": "c61cc394-ec73-4533-d432-c9cb436eb4b0",
        "colab": {
          "base_uri": "https://localhost:8080/",
          "height": 35
        }
      },
      "source": [
        "df.shape"
      ],
      "execution_count": 0,
      "outputs": [
        {
          "output_type": "execute_result",
          "data": {
            "text/plain": [
              "(8574273, 41)"
            ]
          },
          "metadata": {
            "tags": []
          },
          "execution_count": 10
        }
      ]
    },
    {
      "cell_type": "code",
      "metadata": {
        "id": "AZBiQF8Sn3Kk",
        "colab_type": "code",
        "outputId": "2190ed55-5fd8-42d9-a8db-c0f036c25a5f",
        "colab": {
          "base_uri": "https://localhost:8080/",
          "height": 745
        }
      },
      "source": [
        "df.dtypes"
      ],
      "execution_count": 0,
      "outputs": [
        {
          "output_type": "execute_result",
          "data": {
            "text/plain": [
              "Unnamed: 0                 int64\n",
              "Unnamed: 0.1               int64\n",
              "fecha_dato                object\n",
              "ncodpers                   int64\n",
              "ind_empleado              object\n",
              "pais_residencia           object\n",
              "sexo                      object\n",
              "age                        int64\n",
              "ind_nuevo                float64\n",
              "antiguedad                 int64\n",
              "indrel                   float64\n",
              "indrel_1mes              float64\n",
              "tiprel_1mes               object\n",
              "indresi                   object\n",
              "indext                    object\n",
              "canal_entrada             object\n",
              "indfall                   object\n",
              "nomprov                   object\n",
              "ind_actividad_cliente    float64\n",
              "renta                    float64\n",
              "segmento                  object\n",
              "ind_cco_fin_ult1           int64\n",
              "ind_cder_fin_ult1          int64\n",
              "ind_cno_fin_ult1           int64\n",
              "ind_ctju_fin_ult1          int64\n",
              "ind_ctma_fin_ult1          int64\n",
              "ind_ctop_fin_ult1          int64\n",
              "ind_ctpp_fin_ult1          int64\n",
              "ind_dela_fin_ult1          int64\n",
              "ind_ecue_fin_ult1          int64\n",
              "ind_fond_fin_ult1          int64\n",
              "ind_hip_fin_ult1           int64\n",
              "ind_plan_fin_ult1          int64\n",
              "ind_pres_fin_ult1          int64\n",
              "ind_reca_fin_ult1          int64\n",
              "ind_tjcr_fin_ult1          int64\n",
              "ind_valo_fin_ult1          int64\n",
              "ind_viv_fin_ult1           int64\n",
              "ind_nomina_ult1          float64\n",
              "ind_nom_pens_ult1        float64\n",
              "ind_recibo_ult1            int64\n",
              "dtype: object"
            ]
          },
          "metadata": {
            "tags": []
          },
          "execution_count": 11
        }
      ]
    },
    {
      "cell_type": "code",
      "metadata": {
        "id": "mS5ofO9bIf42",
        "colab_type": "code",
        "outputId": "cfe38f19-fe06-40c7-f5f5-76619865bfd9",
        "colab": {
          "base_uri": "https://localhost:8080/",
          "height": 104
        }
      },
      "source": [
        "df['fecha_dato'].unique()"
      ],
      "execution_count": 0,
      "outputs": [
        {
          "output_type": "execute_result",
          "data": {
            "text/plain": [
              "array(['2015-01-28', '2015-02-28', '2015-03-28', '2015-04-28',\n",
              "       '2015-05-28', '2015-06-28', '2015-07-28', '2015-08-28',\n",
              "       '2015-09-28', '2015-10-28', '2015-11-28', '2015-12-28',\n",
              "       '2016-01-28', '2016-02-28', '2016-03-28', '2016-04-28',\n",
              "       '2016-05-28'], dtype=object)"
            ]
          },
          "metadata": {
            "tags": []
          },
          "execution_count": 12
        }
      ]
    },
    {
      "cell_type": "code",
      "metadata": {
        "id": "9Ly1pHDgHuY7",
        "colab_type": "code",
        "colab": {}
      },
      "source": [
        "del df['Unnamed: 0']\n",
        "del df['Unnamed: 0.1']"
      ],
      "execution_count": 0,
      "outputs": []
    },
    {
      "cell_type": "code",
      "metadata": {
        "id": "1UGj_rCCikmJ",
        "colab_type": "code",
        "colab": {}
      },
      "source": [
        "df.rename(columns={\"Customer code\":'ID', 'ncodpers':\"Customer code\", 'ind_empleado':\"Employee index\",\n",
        "       'pais_residencia':\"Customer's Country residence\", 'sexo':\"Customer's sex\", 'age':\"Age\", 'ind_nuevo':\"New customer Index\",\n",
        "       'antiguedad':\"Customer seniority\", 'indrel':\"First/Primary\", 'indrel_1mes':\"Customer type at the beginning of the month\", 'tiprel_1mes':\"Customer relation type at the beginning of the month\", 'indresi':\"Residence index\",\n",
        "       'indext':\"Foreigner index\", 'canal_entrada':\"channel\", 'indfall':\"Deceased index\", 'tipodom':\"Addres type\", 'cod_prov':\"Province code\", 'nomprov':\"Province name\",\n",
        "       'ind_actividad_cliente':\"Activity index\", 'renta':\"Gross income of the household\", 'segmento':\"segmentation\", 'ind_ahor_fin_ult1':\"Saving Account\",\n",
        "       'ind_aval_fin_ult1':\"Guarantees\", 'ind_cco_fin_ult1':\"Current Accounts\", 'ind_cder_fin_ult1':\"Derivada Account\",\n",
        "       'ind_cno_fin_ult1':\"Payroll Account\", 'ind_ctju_fin_ult1':\"Junior Account\", 'ind_ctma_fin_ult1':\"Más particular Account\",\n",
        "       'ind_ctop_fin_ult1':\"particular Account\", 'ind_ctpp_fin_ult1':\"particular Plus Account\", 'ind_deco_fin_ult1':\"Short-term deposits\",\n",
        "       'ind_deme_fin_ult1':\"Medium-term deposits\", 'ind_dela_fin_ult1':\"Long-term deposits\", 'ind_ecue_fin_ult1':\"e-account\",\n",
        "       'ind_fond_fin_ult1':\"Funds\", 'ind_hip_fin_ult1':\"Mortgage\", 'ind_plan_fin_ult1':\"Pensions\",\n",
        "       'ind_pres_fin_ult1':\"Loans\", 'ind_reca_fin_ult1':\"Taxes\", 'ind_tjcr_fin_ult1':\"Credit Card\",\n",
        "       'ind_valo_fin_ult1':\"Securities\", 'ind_viv_fin_ult1':\"Home Account\", 'ind_nomina_ult1':\"Payroll\",\n",
        "       'ind_nom_pens_ult1':\"Nom_Pensions\", 'ind_recibo_ult1':\"Direct Debit\"}, \n",
        "                 inplace=True)"
      ],
      "execution_count": 0,
      "outputs": []
    },
    {
      "cell_type": "code",
      "metadata": {
        "id": "HPRJw8BMjlUh",
        "colab_type": "code",
        "outputId": "0fd03422-0f5b-4ad7-81c5-cfb73e83bc36",
        "colab": {
          "base_uri": "https://localhost:8080/",
          "height": 260
        }
      },
      "source": [
        "df.columns"
      ],
      "execution_count": 0,
      "outputs": [
        {
          "output_type": "execute_result",
          "data": {
            "text/plain": [
              "Index(['fecha_dato', 'Customer code', 'Employee index',\n",
              "       'Customer's Country residence', 'Customer's sex', 'Age',\n",
              "       'New customer Index', 'Customer seniority', 'First/Primary',\n",
              "       'Customer type at the beginning of the month',\n",
              "       'Customer relation type at the beginning of the month',\n",
              "       'Residence index', 'Foreigner index', 'channel', 'Deceased index',\n",
              "       'Province name', 'Activity index', 'Gross income of the household',\n",
              "       'segmentation', 'Current Accounts', 'Derivada Account',\n",
              "       'Payroll Account', 'Junior Account', 'Más particular Account',\n",
              "       'particular Account', 'particular Plus Account', 'Long-term deposits',\n",
              "       'e-account', 'Funds', 'Mortgage', 'Pensions', 'Loans', 'Taxes',\n",
              "       'Credit Card', 'Securities', 'Home Account', 'Payroll', 'Nom_Pensions',\n",
              "       'Direct Debit'],\n",
              "      dtype='object')"
            ]
          },
          "metadata": {
            "tags": []
          },
          "execution_count": 15
        }
      ]
    },
    {
      "cell_type": "code",
      "metadata": {
        "colab_type": "code",
        "outputId": "08c16ab2-6240-4dde-eedc-34302cf94195",
        "id": "o7Xy9boGDqNH",
        "colab": {
          "base_uri": "https://localhost:8080/",
          "height": 202
        }
      },
      "source": [
        "customers = df[['fecha_dato','Customer code']]\n",
        "customers.head()"
      ],
      "execution_count": 0,
      "outputs": [
        {
          "output_type": "execute_result",
          "data": {
            "text/html": [
              "<div>\n",
              "<style scoped>\n",
              "    .dataframe tbody tr th:only-of-type {\n",
              "        vertical-align: middle;\n",
              "    }\n",
              "\n",
              "    .dataframe tbody tr th {\n",
              "        vertical-align: top;\n",
              "    }\n",
              "\n",
              "    .dataframe thead th {\n",
              "        text-align: right;\n",
              "    }\n",
              "</style>\n",
              "<table border=\"1\" class=\"dataframe\">\n",
              "  <thead>\n",
              "    <tr style=\"text-align: right;\">\n",
              "      <th></th>\n",
              "      <th>fecha_dato</th>\n",
              "      <th>Customer code</th>\n",
              "    </tr>\n",
              "  </thead>\n",
              "  <tbody>\n",
              "    <tr>\n",
              "      <th>0</th>\n",
              "      <td>2015-01-28</td>\n",
              "      <td>1375586</td>\n",
              "    </tr>\n",
              "    <tr>\n",
              "      <th>1</th>\n",
              "      <td>2015-01-28</td>\n",
              "      <td>1050611</td>\n",
              "    </tr>\n",
              "    <tr>\n",
              "      <th>2</th>\n",
              "      <td>2015-01-28</td>\n",
              "      <td>1050612</td>\n",
              "    </tr>\n",
              "    <tr>\n",
              "      <th>3</th>\n",
              "      <td>2015-01-28</td>\n",
              "      <td>1050615</td>\n",
              "    </tr>\n",
              "    <tr>\n",
              "      <th>4</th>\n",
              "      <td>2015-01-28</td>\n",
              "      <td>1050616</td>\n",
              "    </tr>\n",
              "  </tbody>\n",
              "</table>\n",
              "</div>"
            ],
            "text/plain": [
              "   fecha_dato  Customer code\n",
              "0  2015-01-28        1375586\n",
              "1  2015-01-28        1050611\n",
              "2  2015-01-28        1050612\n",
              "3  2015-01-28        1050615\n",
              "4  2015-01-28        1050616"
            ]
          },
          "metadata": {
            "tags": []
          },
          "execution_count": 13
        }
      ]
    },
    {
      "cell_type": "code",
      "metadata": {
        "id": "PMDpju5j_ZEm",
        "colab_type": "code",
        "outputId": "bd9c0305-1360-47a6-908a-a73f8720bb49",
        "colab": {
          "base_uri": "https://localhost:8080/",
          "height": 416
        }
      },
      "source": [
        "train = df.loc[:, 'Current Accounts':]\n",
        "train = pd.concat([customers, train], axis=1)\n",
        "train['Payroll'] = train['Payroll'].astype(np.int64) \n",
        "train['Nom_Pensions'] = train['Nom_Pensions'].astype(np.int64) \n",
        "train.dtypes"
      ],
      "execution_count": 0,
      "outputs": [
        {
          "output_type": "execute_result",
          "data": {
            "text/plain": [
              "fecha_dato                 object\n",
              "Customer code               int64\n",
              "Current Accounts            int64\n",
              "Derivada Account            int64\n",
              "Payroll Account             int64\n",
              "Junior Account              int64\n",
              "Más particular Account      int64\n",
              "particular Account          int64\n",
              "particular Plus Account     int64\n",
              "Long-term deposits          int64\n",
              "e-account                   int64\n",
              "Funds                       int64\n",
              "Mortgage                    int64\n",
              "Pensions                    int64\n",
              "Loans                       int64\n",
              "Taxes                       int64\n",
              "Credit Card                 int64\n",
              "Securities                  int64\n",
              "Home Account                int64\n",
              "Payroll                     int64\n",
              "Nom_Pensions                int64\n",
              "Direct Debit                int64\n",
              "dtype: object"
            ]
          },
          "metadata": {
            "tags": []
          },
          "execution_count": 14
        }
      ]
    },
    {
      "cell_type": "markdown",
      "metadata": {
        "id": "lSBZjK4zI05o",
        "colab_type": "text"
      },
      "source": [
        "## Select Monthly data\n",
        "Select data by month to build model"
      ]
    },
    {
      "cell_type": "code",
      "metadata": {
        "id": "nd4L62IFBx2b",
        "colab_type": "code",
        "colab": {}
      },
      "source": [
        "def training_data(train,month):\n",
        "    train_month = train[train['fecha_dato'] == month]\n",
        "    train_month['Payroll'] = train_month['Payroll'].astype(np.int64) \n",
        "    train_month['Pensions'] = train_month['Pensions'].astype(np.int64) \n",
        "    cols = list(train_month.columns)[2:]\n",
        "    cols_all = list(train_month.columns)\n",
        "    train_month = train_month[cols_all].replace({ 0.0:np.nan})\n",
        "    train_month['Customer code'] = train_month['Customer code'].astype(np.int64)\n",
        "    data = pd.melt(train_month.set_index('Customer code')[cols].apply(pd.Series).reset_index(), \n",
        "             id_vars=['Customer code'],\n",
        "             value_name='products')\\\n",
        "    .groupby(['Customer code', 'variable']) \\\n",
        "    .agg({'products': 'count'}) \\\n",
        "    .rename(columns={'products': 'purchase_count'})\n",
        "    data = data[data['purchase_count'] > 0]\n",
        "    df_matrix = pd.pivot_table(data, values='purchase_count', index='Customer code', columns='variable')\n",
        "    d = df_matrix.reset_index() \n",
        "    d.index.names = ['scaled_purchase_freq'] \n",
        "    data_norm = pd.melt(d, id_vars=['Customer code'], value_name='scaled_purchase_freq')\n",
        "    return data_norm "
      ],
      "execution_count": 0,
      "outputs": []
    },
    {
      "cell_type": "code",
      "metadata": {
        "id": "kLQO9hMxJozt",
        "colab_type": "code",
        "colab": {}
      },
      "source": [
        "def data_process(data):\n",
        "  data['v_n'] = data.variable.astype(\"category\").cat.codes\n",
        "  data = data.fillna(0)\n",
        "  return data"
      ],
      "execution_count": 0,
      "outputs": []
    },
    {
      "cell_type": "code",
      "metadata": {
        "id": "a3fPlJUyKZzO",
        "colab_type": "code",
        "colab": {}
      },
      "source": [
        "def build_train_and_test(data1, data2):\n",
        "  reader = Reader(rating_scale=(0,1))\n",
        "  data_new = Dataset.load_from_df(data1[[\"Customer code\",\"v_n\",\"scaled_purchase_freq\"]], reader)\n",
        "  trainset = data_new.build_full_trainset()\n",
        "  testset = data2[[\"Customer code\",\"v_n\",\"scaled_purchase_freq\"]]\n",
        "  return trainset, testset"
      ],
      "execution_count": 0,
      "outputs": []
    },
    {
      "cell_type": "code",
      "metadata": {
        "id": "mvHJ2PbKK9yL",
        "colab_type": "code",
        "outputId": "55386f22-5ce1-413b-ac79-d4ddb94c731d",
        "colab": {
          "base_uri": "https://localhost:8080/",
          "height": 225
        }
      },
      "source": [
        "dataset = []\n",
        "for i in df['fecha_dato'].unique():\n",
        "  dataset.append(data_process(training_data(train, i)))"
      ],
      "execution_count": 0,
      "outputs": [
        {
          "output_type": "stream",
          "text": [
            "/usr/local/lib/python3.6/dist-packages/ipykernel_launcher.py:3: SettingWithCopyWarning: \n",
            "A value is trying to be set on a copy of a slice from a DataFrame.\n",
            "Try using .loc[row_indexer,col_indexer] = value instead\n",
            "\n",
            "See the caveats in the documentation: http://pandas.pydata.org/pandas-docs/stable/user_guide/indexing.html#returning-a-view-versus-a-copy\n",
            "  This is separate from the ipykernel package so we can avoid doing imports until\n",
            "/usr/local/lib/python3.6/dist-packages/ipykernel_launcher.py:4: SettingWithCopyWarning: \n",
            "A value is trying to be set on a copy of a slice from a DataFrame.\n",
            "Try using .loc[row_indexer,col_indexer] = value instead\n",
            "\n",
            "See the caveats in the documentation: http://pandas.pydata.org/pandas-docs/stable/user_guide/indexing.html#returning-a-view-versus-a-copy\n",
            "  after removing the cwd from sys.path.\n"
          ],
          "name": "stderr"
        }
      ]
    },
    {
      "cell_type": "code",
      "metadata": {
        "id": "OH0nOJOsRTP7",
        "colab_type": "code",
        "outputId": "a1f36bbd-1d16-4536-9fff-d88c6250276b",
        "colab": {
          "base_uri": "https://localhost:8080/",
          "height": 415
        }
      },
      "source": [
        "dataset[0]"
      ],
      "execution_count": 0,
      "outputs": [
        {
          "output_type": "execute_result",
          "data": {
            "text/html": [
              "<div>\n",
              "<style scoped>\n",
              "    .dataframe tbody tr th:only-of-type {\n",
              "        vertical-align: middle;\n",
              "    }\n",
              "\n",
              "    .dataframe tbody tr th {\n",
              "        vertical-align: top;\n",
              "    }\n",
              "\n",
              "    .dataframe thead th {\n",
              "        text-align: right;\n",
              "    }\n",
              "</style>\n",
              "<table border=\"1\" class=\"dataframe\">\n",
              "  <thead>\n",
              "    <tr style=\"text-align: right;\">\n",
              "      <th></th>\n",
              "      <th>Customer code</th>\n",
              "      <th>variable</th>\n",
              "      <th>scaled_purchase_freq</th>\n",
              "      <th>v_n</th>\n",
              "    </tr>\n",
              "  </thead>\n",
              "  <tbody>\n",
              "    <tr>\n",
              "      <th>0</th>\n",
              "      <td>15889</td>\n",
              "      <td>Credit Card</td>\n",
              "      <td>1.0</td>\n",
              "      <td>0</td>\n",
              "    </tr>\n",
              "    <tr>\n",
              "      <th>1</th>\n",
              "      <td>15890</td>\n",
              "      <td>Credit Card</td>\n",
              "      <td>1.0</td>\n",
              "      <td>0</td>\n",
              "    </tr>\n",
              "    <tr>\n",
              "      <th>2</th>\n",
              "      <td>15892</td>\n",
              "      <td>Credit Card</td>\n",
              "      <td>1.0</td>\n",
              "      <td>0</td>\n",
              "    </tr>\n",
              "    <tr>\n",
              "      <th>3</th>\n",
              "      <td>15893</td>\n",
              "      <td>Credit Card</td>\n",
              "      <td>0.0</td>\n",
              "      <td>0</td>\n",
              "    </tr>\n",
              "    <tr>\n",
              "      <th>4</th>\n",
              "      <td>15894</td>\n",
              "      <td>Credit Card</td>\n",
              "      <td>1.0</td>\n",
              "      <td>0</td>\n",
              "    </tr>\n",
              "    <tr>\n",
              "      <th>...</th>\n",
              "      <td>...</td>\n",
              "      <td>...</td>\n",
              "      <td>...</td>\n",
              "      <td>...</td>\n",
              "    </tr>\n",
              "    <tr>\n",
              "      <th>9854215</th>\n",
              "      <td>1379053</td>\n",
              "      <td>particular Plus Account</td>\n",
              "      <td>0.0</td>\n",
              "      <td>19</td>\n",
              "    </tr>\n",
              "    <tr>\n",
              "      <th>9854216</th>\n",
              "      <td>1379070</td>\n",
              "      <td>particular Plus Account</td>\n",
              "      <td>0.0</td>\n",
              "      <td>19</td>\n",
              "    </tr>\n",
              "    <tr>\n",
              "      <th>9854217</th>\n",
              "      <td>1379078</td>\n",
              "      <td>particular Plus Account</td>\n",
              "      <td>0.0</td>\n",
              "      <td>19</td>\n",
              "    </tr>\n",
              "    <tr>\n",
              "      <th>9854218</th>\n",
              "      <td>1379126</td>\n",
              "      <td>particular Plus Account</td>\n",
              "      <td>0.0</td>\n",
              "      <td>19</td>\n",
              "    </tr>\n",
              "    <tr>\n",
              "      <th>9854219</th>\n",
              "      <td>1379127</td>\n",
              "      <td>particular Plus Account</td>\n",
              "      <td>0.0</td>\n",
              "      <td>19</td>\n",
              "    </tr>\n",
              "  </tbody>\n",
              "</table>\n",
              "<p>9854220 rows × 4 columns</p>\n",
              "</div>"
            ],
            "text/plain": [
              "         Customer code                 variable  scaled_purchase_freq  v_n\n",
              "0                15889              Credit Card                   1.0    0\n",
              "1                15890              Credit Card                   1.0    0\n",
              "2                15892              Credit Card                   1.0    0\n",
              "3                15893              Credit Card                   0.0    0\n",
              "4                15894              Credit Card                   1.0    0\n",
              "...                ...                      ...                   ...  ...\n",
              "9854215        1379053  particular Plus Account                   0.0   19\n",
              "9854216        1379070  particular Plus Account                   0.0   19\n",
              "9854217        1379078  particular Plus Account                   0.0   19\n",
              "9854218        1379126  particular Plus Account                   0.0   19\n",
              "9854219        1379127  particular Plus Account                   0.0   19\n",
              "\n",
              "[9854220 rows x 4 columns]"
            ]
          },
          "metadata": {
            "tags": []
          },
          "execution_count": 22
        }
      ]
    },
    {
      "cell_type": "code",
      "metadata": {
        "id": "sE8fgemzRoHq",
        "colab_type": "code",
        "colab": {}
      },
      "source": [
        "#trainset = []\n",
        "#testset = []\n",
        "#for i in range(len(dataset)-1):\n",
        "#  trainset.append(build_train_and_test(dataset[i], dataset[i+1])[0])\n",
        "#  testset.append(build_train_and_test(dataset[i], dataset[i+1])[1])"
      ],
      "execution_count": 0,
      "outputs": []
    },
    {
      "cell_type": "code",
      "metadata": {
        "id": "RW15-65dW0uj",
        "colab_type": "code",
        "colab": {}
      },
      "source": [
        "trainset, testset = build_train_and_test(dataset[0], dataset[1])"
      ],
      "execution_count": 0,
      "outputs": []
    },
    {
      "cell_type": "markdown",
      "metadata": {
        "id": "_a-ueRObxkiP",
        "colab_type": "text"
      },
      "source": [
        "## Method: Matrix Factorization"
      ]
    },
    {
      "cell_type": "markdown",
      "metadata": {
        "id": "touktJZyyK40",
        "colab_type": "text"
      },
      "source": [
        "### Without regularization"
      ]
    },
    {
      "cell_type": "code",
      "metadata": {
        "id": "i08VYBrLxsvZ",
        "colab_type": "code",
        "outputId": "774b9ae7-65f9-4615-9afd-2e67c4252805",
        "colab": {
          "base_uri": "https://localhost:8080/",
          "height": 34
        }
      },
      "source": [
        "#model = []\n",
        "#for i in range(len(dataset)-2):\n",
        "#  algo = SVD()\n",
        "#  model.append(algo.fit(trainset[i]))"
      ],
      "execution_count": 0,
      "outputs": [
        {
          "output_type": "execute_result",
          "data": {
            "text/plain": [
              "<surprise.prediction_algorithms.matrix_factorization.SVD at 0x7efc3552b2b0>"
            ]
          },
          "metadata": {
            "tags": []
          },
          "execution_count": 25
        }
      ]
    },
    {
      "cell_type": "code",
      "metadata": {
        "id": "VedMQD9LXgYQ",
        "colab_type": "code",
        "colab": {}
      },
      "source": [
        "algo = SVD()\n",
        "algo.fit(trainset)"
      ],
      "execution_count": 0,
      "outputs": []
    },
    {
      "cell_type": "code",
      "metadata": {
        "id": "K0XHBQ_5yFm4",
        "colab_type": "code",
        "colab": {}
      },
      "source": [
        "#predict = []\n",
        "#test = []\n",
        "#for i in range(len(dataset)-2):\n",
        "#  for index, row in testset[i].iterrows():\n",
        "#    est = model[i].predict(row[\"Customer code\"], row[\"v_n\"]).est\n",
        "#    test.append((row['Customer code'], row[\"v_n\"], est))\n",
        "#  test = pd.DataFrame(test, columns=['Customer code', 'v_n', 'est'])\n",
        "#  predict.append(test)"
      ],
      "execution_count": 0,
      "outputs": []
    },
    {
      "cell_type": "code",
      "metadata": {
        "id": "nX9Nt7ibXqHo",
        "colab_type": "code",
        "colab": {}
      },
      "source": [
        "test = []\n",
        "for index, row in testset.iterrows():\n",
        "  est = algo.predict(row[\"Customer code\"], row[\"v_n\"]).est\n",
        "  test.append((row['Customer code'], row[\"v_n\"], est))\n",
        "test = pd.DataFrame(test, columns=['Customer code', 'v_n', 'est'])"
      ],
      "execution_count": 0,
      "outputs": []
    },
    {
      "cell_type": "code",
      "metadata": {
        "id": "1woQnwyfrkOU",
        "colab_type": "code",
        "colab": {}
      },
      "source": [
        "pred = test[test.est>0.2]"
      ],
      "execution_count": 0,
      "outputs": []
    },
    {
      "cell_type": "code",
      "metadata": {
        "id": "hbQxkaHugIGV",
        "colab_type": "code",
        "colab": {}
      },
      "source": [
        "pred['recommend'] = 1"
      ],
      "execution_count": 0,
      "outputs": []
    },
    {
      "cell_type": "code",
      "metadata": {
        "id": "Yb38dw2Gu7iR",
        "colab_type": "code",
        "outputId": "ed343b72-9281-467b-912c-761ef9fa368a",
        "colab": {
          "base_uri": "https://localhost:8080/",
          "height": 419
        }
      },
      "source": [
        "pred"
      ],
      "execution_count": 0,
      "outputs": [
        {
          "output_type": "execute_result",
          "data": {
            "text/html": [
              "<div>\n",
              "<style scoped>\n",
              "    .dataframe tbody tr th:only-of-type {\n",
              "        vertical-align: middle;\n",
              "    }\n",
              "\n",
              "    .dataframe tbody tr th {\n",
              "        vertical-align: top;\n",
              "    }\n",
              "\n",
              "    .dataframe thead th {\n",
              "        text-align: right;\n",
              "    }\n",
              "</style>\n",
              "<table border=\"1\" class=\"dataframe\">\n",
              "  <thead>\n",
              "    <tr style=\"text-align: right;\">\n",
              "      <th></th>\n",
              "      <th>Customer code</th>\n",
              "      <th>v_n</th>\n",
              "      <th>est</th>\n",
              "      <th>recommend</th>\n",
              "    </tr>\n",
              "  </thead>\n",
              "  <tbody>\n",
              "    <tr>\n",
              "      <th>1</th>\n",
              "      <td>15890.0</td>\n",
              "      <td>0.0</td>\n",
              "      <td>0.305780</td>\n",
              "      <td>1</td>\n",
              "    </tr>\n",
              "    <tr>\n",
              "      <th>2</th>\n",
              "      <td>15892.0</td>\n",
              "      <td>0.0</td>\n",
              "      <td>0.259047</td>\n",
              "      <td>1</td>\n",
              "    </tr>\n",
              "    <tr>\n",
              "      <th>4</th>\n",
              "      <td>15894.0</td>\n",
              "      <td>0.0</td>\n",
              "      <td>0.385751</td>\n",
              "      <td>1</td>\n",
              "    </tr>\n",
              "    <tr>\n",
              "      <th>5</th>\n",
              "      <td>15895.0</td>\n",
              "      <td>0.0</td>\n",
              "      <td>0.343357</td>\n",
              "      <td>1</td>\n",
              "    </tr>\n",
              "    <tr>\n",
              "      <th>6</th>\n",
              "      <td>15897.0</td>\n",
              "      <td>0.0</td>\n",
              "      <td>0.429926</td>\n",
              "      <td>1</td>\n",
              "    </tr>\n",
              "    <tr>\n",
              "      <th>...</th>\n",
              "      <td>...</td>\n",
              "      <td>...</td>\n",
              "      <td>...</td>\n",
              "      <td>...</td>\n",
              "    </tr>\n",
              "    <tr>\n",
              "      <th>9850331</th>\n",
              "      <td>1367514.0</td>\n",
              "      <td>19.0</td>\n",
              "      <td>0.162387</td>\n",
              "      <td>1</td>\n",
              "    </tr>\n",
              "    <tr>\n",
              "      <th>9850423</th>\n",
              "      <td>1367750.0</td>\n",
              "      <td>19.0</td>\n",
              "      <td>0.163426</td>\n",
              "      <td>1</td>\n",
              "    </tr>\n",
              "    <tr>\n",
              "      <th>9851203</th>\n",
              "      <td>1370777.0</td>\n",
              "      <td>19.0</td>\n",
              "      <td>0.208515</td>\n",
              "      <td>1</td>\n",
              "    </tr>\n",
              "    <tr>\n",
              "      <th>9851523</th>\n",
              "      <td>1371827.0</td>\n",
              "      <td>19.0</td>\n",
              "      <td>0.166396</td>\n",
              "      <td>1</td>\n",
              "    </tr>\n",
              "    <tr>\n",
              "      <th>9852377</th>\n",
              "      <td>1374819.0</td>\n",
              "      <td>19.0</td>\n",
              "      <td>0.167157</td>\n",
              "      <td>1</td>\n",
              "    </tr>\n",
              "  </tbody>\n",
              "</table>\n",
              "<p>974843 rows × 4 columns</p>\n",
              "</div>"
            ],
            "text/plain": [
              "         Customer code   v_n       est  recommend\n",
              "1              15890.0   0.0  0.305780          1\n",
              "2              15892.0   0.0  0.259047          1\n",
              "4              15894.0   0.0  0.385751          1\n",
              "5              15895.0   0.0  0.343357          1\n",
              "6              15897.0   0.0  0.429926          1\n",
              "...                ...   ...       ...        ...\n",
              "9850331      1367514.0  19.0  0.162387          1\n",
              "9850423      1367750.0  19.0  0.163426          1\n",
              "9851203      1370777.0  19.0  0.208515          1\n",
              "9851523      1371827.0  19.0  0.166396          1\n",
              "9852377      1374819.0  19.0  0.167157          1\n",
              "\n",
              "[974843 rows x 4 columns]"
            ]
          },
          "metadata": {
            "tags": []
          },
          "execution_count": 45
        }
      ]
    },
    {
      "cell_type": "markdown",
      "metadata": {
        "id": "0ylTUebIxw9o",
        "colab_type": "text"
      },
      "source": [
        "### With regularization\n"
      ]
    },
    {
      "cell_type": "code",
      "metadata": {
        "id": "ydo6U8wkLoCu",
        "colab_type": "code",
        "colab": {}
      },
      "source": [
        "trainset, testset = build_train_and_test(dataset[0], dataset[1])"
      ],
      "execution_count": 0,
      "outputs": []
    },
    {
      "cell_type": "code",
      "metadata": {
        "id": "K0IC3Jxpxv6s",
        "colab_type": "code",
        "colab": {}
      },
      "source": [
        "algo1 = SVDpp(lr_all= 0.002, n_epochs= 15, reg_all=0.6)\n",
        "algo1.fit(trainset)"
      ],
      "execution_count": 0,
      "outputs": []
    },
    {
      "cell_type": "code",
      "metadata": {
        "id": "S13FkC7jx36-",
        "colab_type": "code",
        "colab": {}
      },
      "source": [
        "test1 = []\n",
        "for index, row in testset.iterrows():\n",
        "  est = algo1.predict(row[\"Customer code\"], row[\"v_n\"]).est\n",
        "  test1.append((row['Customer code'], row[\"v_n\"], est))\n",
        "test1 = pd.DataFrame(test1, columns=['Customer code', 'v_n', 'est'])"
      ],
      "execution_count": 0,
      "outputs": []
    },
    {
      "cell_type": "code",
      "metadata": {
        "id": "FXrSjQ0omXCJ",
        "colab_type": "code",
        "colab": {}
      },
      "source": [
        "pred1 = test1[test1.est>0.2]"
      ],
      "execution_count": 0,
      "outputs": []
    },
    {
      "cell_type": "code",
      "metadata": {
        "id": "c9WJ1OMfZAlG",
        "colab_type": "code",
        "colab": {}
      },
      "source": [
        "pred1['recommend'] = 1"
      ],
      "execution_count": 0,
      "outputs": []
    },
    {
      "cell_type": "markdown",
      "metadata": {
        "id": "_18q4Zb2yUTZ",
        "colab_type": "text"
      },
      "source": [
        "### Evaluation"
      ]
    },
    {
      "cell_type": "code",
      "metadata": {
        "id": "531Y3N9lNZ2S",
        "colab_type": "code",
        "colab": {}
      },
      "source": [
        "def evaluate(train, prediction, groundtruth):\n",
        "  Actual = pd.merge(train, groundtruth, 'outer', on = ['Customer code', 'v_n'])\n",
        "  All = pd.merge(Actual, prediction, 'outer', on = ['Customer code', 'v_n'])\n",
        "  Precision_All = pd.merge(Actual, prediction, 'inner', on = ['Customer code', 'v_n'])\n",
        "  precision = np.sum(Precision_All[Precision_All.scaled_purchase_freq_x == 0].scaled_purchase_freq_y == 1)/np.sum(Precision_All.scaled_purchase_freq_x == 0)\n",
        "  recall = np.sum(All[(All.scaled_purchase_freq_x == 0) & (All.scaled_purchase_freq_y == 1)].recommend)/np.sum((All.scaled_purchase_freq_x == 0) & (All.scaled_purchase_freq_y == 1))\n",
        "  return precision, recall\n"
      ],
      "execution_count": 0,
      "outputs": []
    },
    {
      "cell_type": "markdown",
      "metadata": {
        "id": "JdQXq8EAMQRv",
        "colab_type": "text"
      },
      "source": [
        "final result"
      ]
    },
    {
      "cell_type": "code",
      "metadata": {
        "colab_type": "code",
        "outputId": "d23f5b6f-ea23-4f06-f903-546fb41a8d40",
        "id": "4xmbSTNEMwzm",
        "colab": {
          "base_uri": "https://localhost:8080/",
          "height": 34
        }
      },
      "source": [
        "evaluate(dataset[-2], pred1, testset)"
      ],
      "execution_count": 0,
      "outputs": [
        {
          "output_type": "execute_result",
          "data": {
            "text/plain": [
              "(0.01630998770159126, 0.3993175635173145)"
            ]
          },
          "metadata": {
            "tags": []
          },
          "execution_count": 21
        }
      ]
    },
    {
      "cell_type": "markdown",
      "metadata": {
        "id": "EFdb0jPadc5S",
        "colab_type": "text"
      },
      "source": [
        "last month training"
      ]
    },
    {
      "cell_type": "code",
      "metadata": {
        "id": "JjvDnNogdZ1W",
        "colab_type": "code",
        "outputId": "04342021-711b-4d7c-fc46-215e5a394b36",
        "colab": {
          "base_uri": "https://localhost:8080/",
          "height": 34
        }
      },
      "source": [
        "evaluate(dataset[-3], pred1, testset)"
      ],
      "execution_count": 0,
      "outputs": [
        {
          "output_type": "execute_result",
          "data": {
            "text/plain": [
              "(0.016152187498240655, 0.4403007980356047)"
            ]
          },
          "metadata": {
            "tags": []
          },
          "execution_count": 26
        }
      ]
    },
    {
      "cell_type": "markdown",
      "metadata": {
        "id": "YGJ0A44fKRbS",
        "colab_type": "text"
      },
      "source": [
        "first month training"
      ]
    },
    {
      "cell_type": "code",
      "metadata": {
        "id": "_WH9iNQLnRef",
        "colab_type": "code",
        "outputId": "7a9a3215-142f-4325-a247-9f8d6fe4c4c6",
        "colab": {
          "base_uri": "https://localhost:8080/"
        }
      },
      "source": [
        "evaluate(dataset[0], pred1, testset)"
      ],
      "execution_count": 0,
      "outputs": [
        {
          "output_type": "execute_result",
          "data": {
            "text/plain": [
              "(0.00909394053688157, 0.571165235125701)"
            ]
          },
          "metadata": {
            "tags": []
          },
          "execution_count": 71
        }
      ]
    }
  ]
}